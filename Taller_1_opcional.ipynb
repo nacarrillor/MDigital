{
  "nbformat": 4,
  "nbformat_minor": 0,
  "metadata": {
    "colab": {
      "name": "Taller 1 opcional",
      "provenance": [],
      "authorship_tag": "ABX9TyMhdOiQW6CMmdIj5A97q7yB",
      "include_colab_link": true
    },
    "kernelspec": {
      "name": "python3",
      "display_name": "Python 3"
    },
    "language_info": {
      "name": "python"
    }
  },
  "cells": [
    {
      "cell_type": "markdown",
      "metadata": {
        "id": "view-in-github",
        "colab_type": "text"
      },
      "source": [
        "<a href=\"https://colab.research.google.com/github/nacarrillor/MDigital/blob/main/Taller_1_opcional.ipynb\" target=\"_parent\"><img src=\"https://colab.research.google.com/assets/colab-badge.svg\" alt=\"Open In Colab\"/></a>"
      ]
    },
    {
      "cell_type": "markdown",
      "metadata": {
        "id": "_Q37XSH5JhHi"
      },
      "source": [
        "#**TALLER 1** \n",
        "\n",
        "\n",
        "*Alejandra Carrillo*\n",
        "---\n",
        "La empresa VIVAFLY tiene como eslogan: \"Satisfacción y plenitud en un solo viaje\". Por lo cual, uno de los medios que utiliza VIVAFLY para mantener la satisfacción al cliente, es realizar rifas a lo largo del año para fomentar mayor unión y entendimiento. Para el mes de septiembre, por motivos de celebración de Amor y Amistad, la empresa decide sortear los siguientes viajes a los 5 clientes con más antigüedad:\n",
        "\n",
        "1. Viaje todo incluído para dos personas a San Andrés(Premio 1)\n",
        "2. Una pasadía a los termales de San Vicente incluyendo almuerzo (Premio 2)\n",
        "3. Viaje todo incluido para dos personas a Santa Marta (Premio 3)\n",
        "4. Pasadía al desierto de Tatacoa (Sin incluír alimentación) (Premio 4)\n",
        "\n",
        "La empresa utilizará para el sorteo el método de balotera. A continuación se menciona el color ganador por premio:\n",
        "\n",
        "1. Rosado= Premio 1\n",
        "2. Verde=Premio 2\n",
        "3. Azul=Premio 3\n",
        "4. Gris=Premio 4\n",
        "5. Roja=No hay premio\n",
        "\n",
        "La probabilidad de sacar una balota rosada es del 15%, verde 20%, azul 5%, gris 20% y roja 40%.\n",
        "\n",
        "Adicionalmente, para las personas que SI obtengan premio, recibirán un bono en efectivo del porcentaje que represente la probabilidad de ganar con cada balota sobre un valor variable. Sin embargo, se debe tener en cuenta que, Si al aplicar el porcentaje arroja un valor inferior a 120.000, no se les dará el bono en efectivo sino dos boletas de cine 4D para la película en estreno del mes incluyendo un solo combo de palomitas.Por otro lado, para la persona que saque balota roja obtendrá un premio de 120.000 pesos.\n",
        "\n",
        "Nota: El sorteo se realiza con el método de NO reemplazo. Es decir, la probabilidad de sacar cada una de las balotas es la misma para los 5 clientes. Porque a medida que vayan sacando las balotas ganadoras estás se regresan a la balotera y se mantendrá la misma cantidad de balotas.\n",
        "\n",
        "Teniendo en cuenta lo anterior.\n",
        "\n",
        "1. Se le pide a la analista que genere un código donde se pueda observar las respectivas premiaciones.\n",
        "2. Se le solicita al analista que asigne a cada ganador puntos para redimir en un premio posterior teniendo en cuenta las siguientes ponderaciones apartir de tres parámetros:\n",
        "\n",
        "a. Antigüedad >10 años = 50% sino 40% \n",
        "\n",
        "b. Referidos >10 usuarios = 30% sino 20% \n",
        "\n",
        "c. Liderazgo en los programas de cooperación de viajes internos=20% sino 10%\n",
        "\n",
        "\n",
        "las ponderaciones obtenidas de acuerdo a los anteriores parámetros se aplicarán a un valor variable. Para determinar la cantidad de puntos que se generaron a partir de la fidelidad y compromiso del cliente con la empresa.\n",
        "\n",
        "Si se cumple a, b y c... Se aplica el porcentaje de mayor ponderación obtenido de los parámetros anteriormente mencionados,sobre el valor variable. si este excede los 600.000 se genera 500 puntos. si es todo lo contrario se genera 250 puntos\n",
        "\n",
        "Si solo se cumple uno o dos parámetros, se aplica el porcentaje de mayor peso sobre el valor variable. si este excede los 250.000 se genera 200 puntos. si es todo lo contrario se genera 50 puntos.\n",
        "\n",
        "Nota: Si se cumple sólo uno de los tres anteriores parámetros, la empresa da el 10% en puntos (Es decir, después de aplicar la ponderación, se le da al participante solo el 10% de los puntos). Si se cumple dos los tres anteriores, la empresa da el 20% en puntos(Es decir, después de aplicar la ponderación, se le da al participante solo el 20% de los puntos).\n",
        "\n",
        "Finalmente se espera que el algoritmo muestre el nombre del participante ganador, el premio recibido y los puntos otorgador por fidelidad y/o compromiso.\n",
        "\n",
        "las entradas deben ser las siguientes:\n",
        "\n",
        "Nombre de la concursante\n",
        "Color de balota\n",
        "Valor variable\n",
        "Salida:\n",
        "\n",
        "Premio\n",
        "Enunciado de salida: \"La empresa VIVAFLY se complace en anunciar que La participante _ ganó _ en nuestro sorteo de viajes de AMOR y AMISTAD, adicionalmente se le otorga ___ puntos para redimir en un premio a futuro\"\n",
        "\n",
        "Ejemplo: \"La empresa VIVAFLY se complace en anunciar que La participante ANA ganó un pasadía a los termales de San Vicente en nuestro sorteo de viajes de AMOR y AMISTAD, adicionalmente se le otorga 500 puntos para redimir en un premio a futuro\""
      ]
    },
    {
      "cell_type": "code",
      "metadata": {
        "colab": {
          "base_uri": "https://localhost:8080/",
          "height": 282
        },
        "id": "_8Um66khZhS3",
        "outputId": "ae1c9748-5786-407a-bdc0-d3fbcce7acb9"
      },
      "source": [
        "participante= input(\"Nombre del concursante:\")\n",
        "value= input(\"Valor variable:\")\n",
        "balota = input(\"Color de la balota:\")\n",
        "\n",
        "premio1= \"Viaje todo incluido San Andres\"\n",
        "premio2= \"Una pasadía a los termales de San Vicente incluyendo almuerzo\"\n",
        "premio3= \"Viaje todo incluido para dos personas a Santa Marta\"\n",
        "premio4= \"Pasadía al desierto de Tatacoa (Sin incluír alimentación)\"\n",
        "bono1= \"Boleta de 4D cine estreno\"\n",
        "\n",
        "R= premio1\n",
        "V= premio2\n",
        "A= premio3\n",
        "G= premio4\n",
        "RR= \"No hay premio\"\n",
        "\n",
        "\n",
        "if balota==\"Rosado\":\n",
        "  bono = int(value*0.15)  \n",
        "  if bono<120000:\n",
        "    print(\"La empresa VIVAFLY, se complace en anunciar que la participante\", participante, \"gano\", premio1)\n",
        "    print(\"y un bono por el valor de\",bono, \"en nuestro sorteo de viajes de amor y amistad\")\n",
        "\n",
        "elif balota ==\"Verde\":\n",
        " bono = int(value*0.2)\n",
        "\n",
        "if bono<120000:\n",
        "     print(\"La empresa VIVAFLY, se complace en anunciar que la participante\", participante, \"gano\", premio2)\n",
        "     print(\"y un bono por el valor de\",bono, \"en nuestro sorteo de viajes de amor y amistad\")\n",
        "\n",
        "elif balota ==\"Azul\":\n",
        " bono = int(value*0.05)\n",
        "\n",
        "if bono<120000:\n",
        "    print(\"La empresa VIVAFLY, se complace en anunciar que la participante\", participante, \"gano\", premio3)\n",
        "    print(\"y un bono por el valor de\",bono, \"en nuestro sorteo de viajes de amor y amistad\")\n",
        "\n",
        "\n",
        "elif balota ==\"Gris\":\n",
        " bono = int(value*0.2)\n",
        "\n",
        "if bono<120000:\n",
        "    print(\"La empresa VIVAFLY, se complace en anunciar que la participante\", participante, \"gano\", premio4)\n",
        "    print(\"y un bono por el valor de\",bono, \"en nuestro sorteo de viajes de amor y amistad\")\n",
        "\n",
        "\n",
        "elif balota ==\"Roja\":\n",
        " bono = int(value*0.4)\n",
        "\n",
        "if bono<120000:\n",
        "    print(\"La empresa VIVAFLY, se complace en anunciar que la participante\", participante, \"No gano\", )\n",
        "    print(\"y un bono por el valor de\",bono, \"en nuestro sorteo de viajes de amor y amistad\")\n",
        "\n",
        "\n"
      ],
      "execution_count": null,
      "outputs": [
        {
          "output_type": "stream",
          "text": [
            "Nombre del concursante:alejandra\n",
            "Valor variable:1000000\n",
            "Color de la balota:v\n"
          ],
          "name": "stdout"
        },
        {
          "output_type": "error",
          "ename": "NameError",
          "evalue": "ignored",
          "traceback": [
            "\u001b[0;31m---------------------------------------------------------------------------\u001b[0m",
            "\u001b[0;31mNameError\u001b[0m                                 Traceback (most recent call last)",
            "\u001b[0;32m<ipython-input-15-a78703b77cca>\u001b[0m in \u001b[0;36m<module>\u001b[0;34m()\u001b[0m\n\u001b[1;32m     25\u001b[0m  \u001b[0mbono\u001b[0m \u001b[0;34m=\u001b[0m \u001b[0mint\u001b[0m\u001b[0;34m(\u001b[0m\u001b[0mvalue\u001b[0m\u001b[0;34m*\u001b[0m\u001b[0;36m0.2\u001b[0m\u001b[0;34m)\u001b[0m\u001b[0;34m\u001b[0m\u001b[0;34m\u001b[0m\u001b[0m\n\u001b[1;32m     26\u001b[0m \u001b[0;34m\u001b[0m\u001b[0m\n\u001b[0;32m---> 27\u001b[0;31m \u001b[0;32mif\u001b[0m \u001b[0mbono\u001b[0m\u001b[0;34m<\u001b[0m\u001b[0;36m120000\u001b[0m\u001b[0;34m:\u001b[0m\u001b[0;34m\u001b[0m\u001b[0;34m\u001b[0m\u001b[0m\n\u001b[0m\u001b[1;32m     28\u001b[0m      \u001b[0mprint\u001b[0m\u001b[0;34m(\u001b[0m\u001b[0;34m\"La empresa VIVAFLY, se complace en anunciar que la participante\"\u001b[0m\u001b[0;34m,\u001b[0m \u001b[0mparticipante\u001b[0m\u001b[0;34m,\u001b[0m \u001b[0;34m\"gano\"\u001b[0m\u001b[0;34m,\u001b[0m \u001b[0mpremio2\u001b[0m\u001b[0;34m)\u001b[0m\u001b[0;34m\u001b[0m\u001b[0;34m\u001b[0m\u001b[0m\n\u001b[1;32m     29\u001b[0m      \u001b[0mprint\u001b[0m\u001b[0;34m(\u001b[0m\u001b[0;34m\"y un bono por el valor de\"\u001b[0m\u001b[0;34m,\u001b[0m\u001b[0mbono\u001b[0m\u001b[0;34m,\u001b[0m \u001b[0;34m\"en nuestro sorteo de viajes de amor y amistad\"\u001b[0m\u001b[0;34m)\u001b[0m\u001b[0;34m\u001b[0m\u001b[0;34m\u001b[0m\u001b[0m\n",
            "\u001b[0;31mNameError\u001b[0m: name 'bono' is not defined"
          ]
        }
      ]
    }
  ]
}
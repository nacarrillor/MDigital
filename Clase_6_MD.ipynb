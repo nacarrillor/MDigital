{
  "nbformat": 4,
  "nbformat_minor": 0,
  "metadata": {
    "colab": {
      "name": "Clase 6 MD",
      "provenance": [],
      "authorship_tag": "ABX9TyOeIWwONRIisGn29mQbOuSB",
      "include_colab_link": true
    },
    "kernelspec": {
      "name": "python3",
      "display_name": "Python 3"
    },
    "language_info": {
      "name": "python"
    }
  },
  "cells": [
    {
      "cell_type": "markdown",
      "metadata": {
        "id": "view-in-github",
        "colab_type": "text"
      },
      "source": [
        "<a href=\"https://colab.research.google.com/github/nacarrillor/MDigital/blob/main/Clase_6_MD.ipynb\" target=\"_parent\"><img src=\"https://colab.research.google.com/assets/colab-badge.svg\" alt=\"Open In Colab\"/></a>"
      ]
    },
    {
      "cell_type": "markdown",
      "metadata": {
        "id": "EtP4U4WKosLR"
      },
      "source": [
        "**CONTINUACIÓN DE LOS EJEMPLOS DEL USO DE LISTA DE COMPREHENSIÓN**\n",
        "\n",
        "---\n",
        "Comprehensión de conjuntos\n",
        "\n",
        "---\n",
        "La comprensión es muy similar a la que veniamos manejando con *Lista*. La única diferencia es que se usa los {}.\n",
        "\n",
        "Recordemos que los conjuntos también denominados sets no permiten duplicados, entonces cada elemento es único. Si se llega añadir un elemento repetido, no arroja error, pero se mostrará en el print."
      ]
    },
    {
      "cell_type": "code",
      "metadata": {
        "colab": {
          "base_uri": "https://localhost:8080/"
        },
        "id": "uEgm7Cudp2Ex",
        "outputId": "c7f76050-fbaa-4eab-885c-bc60b36a5d22"
      },
      "source": [
        "sa = \"ema ama a mama\"\n",
        "sa2= {i for i in sa if i==\"m\"}\n",
        "print(sa2)\n",
        "\n",
        "{'m'}"
      ],
      "execution_count": 1,
      "outputs": [
        {
          "output_type": "stream",
          "text": [
            "{'m'}\n"
          ],
          "name": "stdout"
        },
        {
          "output_type": "execute_result",
          "data": {
            "text/plain": [
              "{'m'}"
            ]
          },
          "metadata": {
            "tags": []
          },
          "execution_count": 1
        }
      ]
    },
    {
      "cell_type": "markdown",
      "metadata": {
        "id": "MRYEpWvfqrzS"
      },
      "source": [
        "Ahora, veamos a continuación el caso de diccionarios de comprensión. La única diferencia que tiene respecto a las listas o conjuntos de comprensión es la especificación de claves (key)."
      ]
    },
    {
      "cell_type": "code",
      "metadata": {
        "colab": {
          "base_uri": "https://localhost:8080/"
        },
        "id": "VPtX2EfDq0Xo",
        "outputId": "ca75ef70-3cc4-4352-aae4-46b2d9c84d3a"
      },
      "source": [
        "lista1= ['nombre', 'apellido', 'ciudad']\n",
        "lista2= ['Ana', 'Rodriguez', 'Popayan']\n",
        "\n",
        "#Iteración más rapida\n",
        "dict= {i:j for i, j in zip(lista1, lista2)}\n",
        "print(dict)"
      ],
      "execution_count": 2,
      "outputs": [
        {
          "output_type": "stream",
          "text": [
            "{'nombre': 'Ana', 'apellido': 'Rodriguez', 'ciudad': 'Popayan'}\n"
          ],
          "name": "stdout"
        }
      ]
    },
    {
      "cell_type": "markdown",
      "metadata": {
        "id": "MawAS6nHrz0X"
      },
      "source": [
        "Pudimos observar que añadiendo : asignamos un valor a la llave declarada, a su vez, usamos zip () el cual tiene como función iterar dos listas en paralelo. Es decir con zip podemos convertir dos listas en un diccionario y el for se manejaria iterando dos valores en simultaneo."
      ]
    },
    {
      "cell_type": "markdown",
      "metadata": {
        "id": "jUDR2CdBsfhX"
      },
      "source": [
        "**OTRAS ESTRUCTURAS DE CONTROL**\n",
        "\n",
        "---\n",
        "\n",
        "1. Switch\n",
        "2. Break\n",
        "3. Continue\n",
        "4. Complemento de iteración (Enumerate).\n",
        "\n",
        "**1. Switch:**\n",
        "El switch es una herramienta que permite ejecutar diferentes secciones de código, dependiendo de las condiciones impuestas.\n",
        "Su función es muy similar a usar if anidados o varios if por separado al mismo tiempo.\n",
        "\n",
        "Sin embargo en Python no hay un switch directo.\n",
        "\n",
        "**2. Break:**\n",
        "Nos permite alterar el comportamiento de los ciclos de while (mientras) y for. Directamente su función es la de finalizar los ciclos."
      ]
    },
    {
      "cell_type": "code",
      "metadata": {
        "colab": {
          "base_uri": "https://localhost:8080/"
        },
        "id": "WFykw3kPt0LM",
        "outputId": "9a88a133-9268-43f7-89ed-b9275484fbc7"
      },
      "source": [
        "#Ejemplo break\n",
        "x='Andrea'\n",
        "for i in x:\n",
        "  if i==\"e\":\n",
        "    print(\"Se obtuvo la letra e\")\n",
        "    break\n",
        "  print(i)"
      ],
      "execution_count": 11,
      "outputs": [
        {
          "output_type": "stream",
          "text": [
            "A\n",
            "n\n",
            "d\n",
            "r\n",
            "Se obtuvo la letra e\n"
          ],
          "name": "stdout"
        }
      ]
    },
    {
      "cell_type": "code",
      "metadata": {
        "colab": {
          "base_uri": "https://localhost:8080/"
        },
        "id": "iHk5kn6GvLEE",
        "outputId": "5bc7c603-fdf4-431a-e54d-cf845a16fe94"
      },
      "source": [
        "x=15\n",
        "while True:\n",
        "  x-=1\n",
        "  print(x)\n",
        "  if x==0:\n",
        "    break\n",
        "  print(\"Se finaliza ciclo\")"
      ],
      "execution_count": 13,
      "outputs": [
        {
          "output_type": "stream",
          "text": [
            "14\n",
            "Se finaliza ciclo\n",
            "13\n",
            "Se finaliza ciclo\n",
            "12\n",
            "Se finaliza ciclo\n",
            "11\n",
            "Se finaliza ciclo\n",
            "10\n",
            "Se finaliza ciclo\n",
            "9\n",
            "Se finaliza ciclo\n",
            "8\n",
            "Se finaliza ciclo\n",
            "7\n",
            "Se finaliza ciclo\n",
            "6\n",
            "Se finaliza ciclo\n",
            "5\n",
            "Se finaliza ciclo\n",
            "4\n",
            "Se finaliza ciclo\n",
            "3\n",
            "Se finaliza ciclo\n",
            "2\n",
            "Se finaliza ciclo\n",
            "1\n",
            "Se finaliza ciclo\n",
            "0\n"
          ],
          "name": "stdout"
        }
      ]
    },
    {
      "cell_type": "code",
      "metadata": {
        "colab": {
          "base_uri": "https://localhost:8080/"
        },
        "id": "cL3cTmnDwUVT",
        "outputId": "fd08b22d-d31b-4b4c-8bcc-b94f7c478f1b"
      },
      "source": [
        "#uso de break con ciclos anidados\n",
        "\n",
        "for i in range(1,8): #(El primero 1-me indica un valor y 8- ese número menos 1, osea 7)\n",
        "  for j in range(1,8): #Rompe el ciclo desde el primer valor de iteración, osea 1\n",
        "    break #Este break me pare a el ciclo del segundo for, no de todo el for, por eso se queda iterando en 1.\n",
        "  print(i,j)\n",
        "\n",
        "#Nota: El break no afecta el for exterior. Rompe el ciclo anidado en su conjunto, pero no afecta directamente el ciclo exterior del for."
      ],
      "execution_count": 16,
      "outputs": [
        {
          "output_type": "stream",
          "text": [
            "1 1\n",
            "2 1\n",
            "3 1\n",
            "4 1\n",
            "5 1\n",
            "6 1\n",
            "7 1\n"
          ],
          "name": "stdout"
        }
      ]
    },
    {
      "cell_type": "markdown",
      "metadata": {
        "id": "B5XM7Apjx9H5"
      },
      "source": [
        "**2. CONTINUE**\n",
        "\n",
        "El *continue* se salta todo el código restante en la iteración actual y vuelve al principio en caso que queden elementos por iterar.\n",
        "\n",
        "*Diferencias entre break y continue:*\n",
        "La principal consecuencia es que continue no rompe el ciclo, sino que pasa a la iteración pendiente\n"
      ]
    },
    {
      "cell_type": "code",
      "metadata": {
        "colab": {
          "base_uri": "https://localhost:8080/"
        },
        "id": "7smLB2xsx849",
        "outputId": "81a39d9a-bdc3-485a-dddf-75856f9ce7fe"
      },
      "source": [
        "x='Andrea'\n",
        "for i in x:\n",
        "  if i==\"r\":\n",
        "    continue \n",
        "  print(i)"
      ],
      "execution_count": 17,
      "outputs": [
        {
          "output_type": "stream",
          "text": [
            "A\n",
            "n\n",
            "d\n",
            "e\n",
            "a\n"
          ],
          "name": "stdout"
        }
      ]
    },
    {
      "cell_type": "code",
      "metadata": {
        "colab": {
          "base_uri": "https://localhost:8080/"
        },
        "id": "7B1CHZv5yshy",
        "outputId": "4b7e8465-8669-4751-ec49-1d556bf30bac"
      },
      "source": [
        "x=15\n",
        "while x>0:\n",
        "  x -=1\n",
        "  if x==3:\n",
        "    continue\n",
        "  print(x) "
      ],
      "execution_count": 19,
      "outputs": [
        {
          "output_type": "stream",
          "text": [
            "14\n",
            "13\n",
            "12\n",
            "11\n",
            "10\n",
            "9\n",
            "8\n",
            "7\n",
            "6\n",
            "5\n",
            "4\n",
            "2\n",
            "1\n",
            "0\n"
          ],
          "name": "stdout"
        }
      ]
    },
    {
      "cell_type": "markdown",
      "metadata": {
        "id": "ltYDxCCczUHR"
      },
      "source": [
        "**Iterar con ENUMERATE**\n",
        "\n",
        "---\n",
        "\n",
        "Python nos permite iterar, colecciones de objetos y  elementos de la misma forma. Sin embargo hay una opción que es que en algunas situaciones que queramos acceder a un elemento ordenado podemos hacerlo nombrando el indice de cada elemento llamado."
      ]
    },
    {
      "cell_type": "code",
      "metadata": {
        "colab": {
          "base_uri": "https://localhost:8080/"
        },
        "id": "jwyu5l2Cz4Jt",
        "outputId": "eb65d8c8-f84e-487b-d34e-07b712f9c96d"
      },
      "source": [
        "w=[\"sa\", \"se\", \"si\", \"so\", \"su\"]\n",
        "indice=0\n",
        "for i in w:\n",
        "  print(indice,i)\n",
        "  indice+=1"
      ],
      "execution_count": 20,
      "outputs": [
        {
          "output_type": "stream",
          "text": [
            "0 sa\n",
            "1 se\n",
            "2 si\n",
            "3 so\n",
            "4 su\n"
          ],
          "name": "stdout"
        }
      ]
    },
    {
      "cell_type": "code",
      "metadata": {
        "colab": {
          "base_uri": "https://localhost:8080/"
        },
        "id": "9vTxdx280eB5",
        "outputId": "e13c1088-6314-487a-9088-b7422122e60c"
      },
      "source": [
        "w=[\"sa\", \"se\", \"si\", \"so\", \"su\"]\n",
        "for indice, i in enumerate(w):\n",
        "  print(indice, i)"
      ],
      "execution_count": 21,
      "outputs": [
        {
          "output_type": "stream",
          "text": [
            "0 sa\n",
            "1 se\n",
            "2 si\n",
            "3 so\n",
            "4 su\n"
          ],
          "name": "stdout"
        }
      ]
    },
    {
      "cell_type": "code",
      "metadata": {
        "colab": {
          "base_uri": "https://localhost:8080/"
        },
        "id": "zaAzG-dI1G7A",
        "outputId": "997b9096-cf00-400a-f0c0-c5e0f7ba3d5a"
      },
      "source": [
        "w=[\"sa\", \"se\", \"si\", \"so\", \"su\"]\n",
        "for indice, i in enumerate(w):\n",
        "  print(indice, i)\n",
        "\n",
        "x=list(enumerate(w))\n",
        "print(x)"
      ],
      "execution_count": 22,
      "outputs": [
        {
          "output_type": "stream",
          "text": [
            "0 sa\n",
            "1 se\n",
            "2 si\n",
            "3 so\n",
            "4 su\n",
            "[(0, 'sa'), (1, 'se'), (2, 'si'), (3, 'so'), (4, 'su')]\n"
          ],
          "name": "stdout"
        }
      ]
    },
    {
      "cell_type": "markdown",
      "metadata": {
        "id": "5ZS6kcGA1oBx"
      },
      "source": [
        "**Uso de zip()**\n",
        "\n",
        "Si pasamos dos listas a zip, el resultado será una tupla dodne cada elemento tendrá todos y cada uno de los elementos de las entradas"
      ]
    },
    {
      "cell_type": "code",
      "metadata": {
        "colab": {
          "base_uri": "https://localhost:8080/"
        },
        "id": "XOCPEzgT2E66",
        "outputId": "114492fe-55d9-45d5-9300-cfa98a056423"
      },
      "source": [
        "a=[1,2,3]\n",
        "b=[\"a\", \"b\", \"c\"]\n",
        "c=zip(a,b)\n",
        "print(list(c))\n",
        "\n",
        "for i, j in zip(a,b):\n",
        "  print(\"Número\", i, \"Letras\", j)"
      ],
      "execution_count": 26,
      "outputs": [
        {
          "output_type": "stream",
          "text": [
            "[(1, 'a'), (2, 'b'), (3, 'c')]\n",
            "Número 1 Letras a\n",
            "Número 2 Letras b\n",
            "Número 3 Letras c\n"
          ],
          "name": "stdout"
        }
      ]
    },
    {
      "cell_type": "code",
      "metadata": {
        "colab": {
          "base_uri": "https://localhost:8080/"
        },
        "id": "GLKSN0Md3qny",
        "outputId": "8c80de2b-37ed-46e8-ecf1-7572263596b8"
      },
      "source": [
        "a=[1,2,3]\n",
        "b=[\"a\", \"b\", \"c\"]\n",
        "x=[\"q\", \"w\", \"e\"]\n",
        "z=(10, 20, 30)\n",
        "c=zip(a,b)\n",
        "print(list(c))\n",
        "\n",
        "for lu, la , le, li, in zip(a,b, x,z):\n",
        "  print(lu, la , le, li)"
      ],
      "execution_count": 29,
      "outputs": [
        {
          "output_type": "stream",
          "text": [
            "[(1, 'a'), (2, 'b'), (3, 'c')]\n",
            "1 a q 10\n",
            "2 b w 20\n",
            "3 c e 30\n"
          ],
          "name": "stdout"
        }
      ]
    },
    {
      "cell_type": "code",
      "metadata": {
        "colab": {
          "base_uri": "https://localhost:8080/"
        },
        "id": "fm-MmNZf4J4q",
        "outputId": "e2f1e5ed-042d-4442-9cd4-8d8f2aabbae8"
      },
      "source": [
        "a=[1,2,3]\n",
        "b=[\"a\", \"b\"]\n",
        "\n",
        "for sa, se in zip(a,b):\n",
        "  print(sa, se)"
      ],
      "execution_count": 30,
      "outputs": [
        {
          "output_type": "stream",
          "text": [
            "1 a\n",
            "2 b\n"
          ],
          "name": "stdout"
        }
      ]
    },
    {
      "cell_type": "code",
      "metadata": {
        "colab": {
          "base_uri": "https://localhost:8080/"
        },
        "id": "e8mPA9ge4rh2",
        "outputId": "4b96e3da-bfa2-4a7a-9455-7490b17f168d"
      },
      "source": [
        "c=[(1, 'a'), (2, 'b'), (3, 'c')]\n",
        "\n",
        "a,b= zip(*c)\n",
        "print(a)\n",
        "print(b)"
      ],
      "execution_count": 38,
      "outputs": [
        {
          "output_type": "stream",
          "text": [
            "(1, 2, 3)\n",
            "('a', 'b', 'c')\n"
          ],
          "name": "stdout"
        }
      ]
    },
    {
      "cell_type": "markdown",
      "metadata": {
        "id": "RbysCaWS6FTM"
      },
      "source": [
        "**FUNCIONES**\n",
        "---\n",
        "La función nos permite ordenar de manera adecuada la generación de objetos y bloques de código por ciclos y demás estructuras.\n",
        "\n",
        "La sintaxis es la siguiente:\n",
        "\n",
        "def (para definir la función)\n",
        "\n",
        "Ejemplo:\n",
        "\n",
        "def nombre_funcion(argumentos):\n",
        "  código\n",
        "\n",
        "nombre_funcion(argumentos2)"
      ]
    },
    {
      "cell_type": "code",
      "metadata": {
        "colab": {
          "base_uri": "https://localhost:8080/"
        },
        "id": "JkXcYOPM6UpV",
        "outputId": "94c930bb-8473-4214-841b-31d016883806"
      },
      "source": [
        "def f(a):\n",
        "  return 2*a\n",
        "y=f(3)\n",
        "print(y)"
      ],
      "execution_count": 40,
      "outputs": [
        {
          "output_type": "stream",
          "text": [
            "6\n"
          ],
          "name": "stdout"
        }
      ]
    },
    {
      "cell_type": "markdown",
      "metadata": {
        "id": "_SIhOoAh7dBX"
      },
      "source": [
        "**Las funciones no sólo realizan una operación con sus entradas (argumentos de inicio). Si no también parten de los siguientes principios:**\n",
        "\n",
        "1. *Reusabilidad:* Si tenemos un fragmento de código usado en muchos sitios, y se guarda en una función, nos evitará tener códigos repetidos, además de la conveniencia que tiene por ser fácilmente editable.\n",
        "2. *Modularidad:* Permite legibilidad de forma más sencilla, es decir, los largos bloques de código se pueden agrupar en módulos o funciones y la lectura va a ser mucho más sencilla."
      ]
    },
    {
      "cell_type": "code",
      "metadata": {
        "colab": {
          "base_uri": "https://localhost:8080/"
        },
        "id": "St4htl4H7caR",
        "outputId": "fdf06ab5-7010-46ea-d937-8279b6a67462"
      },
      "source": [
        "#Ejemplo 1: Función sin argumentos de entrada ni parámetros de salida:\n",
        "\n",
        "def s(): #Declaración de función\n",
        "  print(\"Hi Aleja\")\n",
        "s() #Al cerrar la definición de función me va a aparecer la ejecución del código"
      ],
      "execution_count": 42,
      "outputs": [
        {
          "output_type": "stream",
          "text": [
            "Hi Aleja\n"
          ],
          "name": "stdout"
        }
      ]
    },
    {
      "cell_type": "code",
      "metadata": {
        "colab": {
          "base_uri": "https://localhost:8080/"
        },
        "id": "bG0-IGCm9HbN",
        "outputId": "cff8f618-eb50-422f-f236-44de66f82756"
      },
      "source": [
        "#Ejemplo 2: Incluir argumentos de entrada\n",
        "\n",
        "def s(apellido):\n",
        "  print (\"Hi Aleja\", apellido)\n",
        "s(\"Carrillo\")"
      ],
      "execution_count": 45,
      "outputs": [
        {
          "output_type": "stream",
          "text": [
            "Hi Aleja Carrillo\n"
          ],
          "name": "stdout"
        }
      ]
    },
    {
      "cell_type": "code",
      "metadata": {
        "colab": {
          "base_uri": "https://localhost:8080/"
        },
        "id": "vVVQESHE9xsq",
        "outputId": "aa6f0d4f-90db-42d4-a917-e3ba237aed33"
      },
      "source": [
        "#Ejemplo 3. Usando dos argumentos de entrada y salida, operación matemática.\n",
        "\n",
        "def dog(a,b):\n",
        "  return a+b\n",
        "dog(3,5)"
      ],
      "execution_count": 48,
      "outputs": [
        {
          "output_type": "execute_result",
          "data": {
            "text/plain": [
              "8"
            ]
          },
          "metadata": {
            "tags": []
          },
          "execution_count": 48
        }
      ]
    },
    {
      "cell_type": "code",
      "metadata": {
        "colab": {
          "base_uri": "https://localhost:8080/"
        },
        "id": "0WPILdhU_DLI",
        "outputId": "27098385-4df4-4426-82ea-7068a1165458"
      },
      "source": [
        "#Ejemplo 4. Reusabilidad del código\n",
        "dog(a=4, b=20)"
      ],
      "execution_count": 50,
      "outputs": [
        {
          "output_type": "execute_result",
          "data": {
            "text/plain": [
              "24"
            ]
          },
          "metadata": {
            "tags": []
          },
          "execution_count": 50
        }
      ]
    },
    {
      "cell_type": "code",
      "metadata": {
        "colab": {
          "base_uri": "https://localhost:8080/"
        },
        "id": "_xa0Ktj4_W1A",
        "outputId": "90fcc2ba-76fe-4dd6-e7cb-1f93d8811f13"
      },
      "source": [
        "#Ejemplo 5. Argumentos fijos desde el inicio\n",
        "\n",
        "def suma(a,b,c,d=1):\n",
        "  return a+b+c+d\n",
        "suma(2,3,4)\n",
        "\n"
      ],
      "execution_count": 53,
      "outputs": [
        {
          "output_type": "execute_result",
          "data": {
            "text/plain": [
              "10"
            ]
          },
          "metadata": {
            "tags": []
          },
          "execution_count": 53
        }
      ]
    },
    {
      "cell_type": "code",
      "metadata": {
        "colab": {
          "base_uri": "https://localhost:8080/",
          "height": 129
        },
        "id": "P134Y0-kAX35",
        "outputId": "9a03def6-d016-471d-b703-d4d4db6e12af"
      },
      "source": [
        "#Ejemplo 6. Argumentos fijos desde el inicio\n",
        "\n",
        "#def suma(a,b,c=1,d):\n",
        "  #return a+b+c+d\n",
        "#suma(2,3,1,4)"
      ],
      "execution_count": 55,
      "outputs": [
        {
          "output_type": "error",
          "ename": "SyntaxError",
          "evalue": "ignored",
          "traceback": [
            "\u001b[0;36m  File \u001b[0;32m\"<ipython-input-55-312d32dbfba1>\"\u001b[0;36m, line \u001b[0;32m3\u001b[0m\n\u001b[0;31m    def suma(a,b,c=1,d):\u001b[0m\n\u001b[0m            ^\u001b[0m\n\u001b[0;31mSyntaxError\u001b[0m\u001b[0;31m:\u001b[0m non-default argument follows default argument\n"
          ]
        }
      ]
    },
    {
      "cell_type": "code",
      "metadata": {
        "colab": {
          "base_uri": "https://localhost:8080/"
        },
        "id": "s5w3Wc-2Ahro",
        "outputId": "ce440ef2-9df8-4aeb-f7b7-f73db989ac2b"
      },
      "source": [
        "suma (2,3,3,4)"
      ],
      "execution_count": 56,
      "outputs": [
        {
          "output_type": "execute_result",
          "data": {
            "text/plain": [
              "12"
            ]
          },
          "metadata": {
            "tags": []
          },
          "execution_count": 56
        }
      ]
    },
    {
      "cell_type": "code",
      "metadata": {
        "colab": {
          "base_uri": "https://localhost:8080/"
        },
        "id": "tIaGys0SAtVP",
        "outputId": "0a924d75-22a4-4118-f502-727cfe85d6d0"
      },
      "source": [
        "def suma(a=2, b=3, c=4, d=5):\n",
        "  return a+b+c+d\n",
        "suma()\n",
        "\n",
        "suma(1)\n",
        "suma(a=1,5)\n"
      ],
      "execution_count": 59,
      "outputs": [
        {
          "output_type": "execute_result",
          "data": {
            "text/plain": [
              "14"
            ]
          },
          "metadata": {
            "tags": []
          },
          "execution_count": 59
        }
      ]
    },
    {
      "cell_type": "code",
      "metadata": {
        "colab": {
          "base_uri": "https://localhost:8080/"
        },
        "id": "GrSdxj9tBhAq",
        "outputId": "10b7a8a2-25a7-4a2b-b54a-61c9f185b452"
      },
      "source": [
        "#Ejemplo 7. Argumentos de longitud variable\n",
        "\n",
        "def suma(number):\n",
        "  total=0\n",
        "  for i in number:\n",
        "    total +=i\n",
        "  return total\n",
        "suma([1,3,5,4])\n"
      ],
      "execution_count": 67,
      "outputs": [
        {
          "output_type": "execute_result",
          "data": {
            "text/plain": [
              "13"
            ]
          },
          "metadata": {
            "tags": []
          },
          "execution_count": 67
        }
      ]
    },
    {
      "cell_type": "markdown",
      "metadata": {
        "id": "vF9IJVVSC22r"
      },
      "source": [
        "Se realizó la suma de todos los números de entrada. Para ello la declaración de los argumentos de salida sería como una lista.\n",
        "\n",
        "La forma de sintaxis anterior es valida, sin embargo tenemos un solo argumento que es una lista de números.\n",
        "\n",
        "Si declaramos un argumento con *, esto hará que el argumento sea guardado como tupla de manera automática."
      ]
    },
    {
      "cell_type": "code",
      "metadata": {
        "colab": {
          "base_uri": "https://localhost:8080/"
        },
        "id": "jSu7s7DbDtdh",
        "outputId": "d9b818cd-127a-4daa-fccc-79e47a352589"
      },
      "source": [
        "def suma(*number):\n",
        "  print(type(number))\n",
        "  total=0\n",
        "  for i in number:\n",
        "    total+=i\n",
        "  return total\n",
        "\n",
        "suma(2, 3, 5, 4)"
      ],
      "execution_count": 71,
      "outputs": [
        {
          "output_type": "stream",
          "text": [
            "<class 'tuple'>\n"
          ],
          "name": "stdout"
        },
        {
          "output_type": "execute_result",
          "data": {
            "text/plain": [
              "14"
            ]
          },
          "metadata": {
            "tags": []
          },
          "execution_count": 71
        }
      ]
    }
  ]
}
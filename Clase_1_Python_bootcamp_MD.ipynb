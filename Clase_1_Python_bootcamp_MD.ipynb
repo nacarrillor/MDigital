{
  "nbformat": 4,
  "nbformat_minor": 0,
  "metadata": {
    "colab": {
      "name": "Clase 1. Python bootcamp MD",
      "provenance": [],
      "authorship_tag": "ABX9TyNMKfmIGpnCBnXTtuGof3+v",
      "include_colab_link": true
    },
    "kernelspec": {
      "name": "python3",
      "display_name": "Python 3"
    },
    "language_info": {
      "name": "python"
    }
  },
  "cells": [
    {
      "cell_type": "markdown",
      "metadata": {
        "id": "view-in-github",
        "colab_type": "text"
      },
      "source": [
        "<a href=\"https://colab.research.google.com/github/nacarrillor/MDigital/blob/main/Clase_1_Python_bootcamp_MD.ipynb\" target=\"_parent\"><img src=\"https://colab.research.google.com/assets/colab-badge.svg\" alt=\"Open In Colab\"/></a>"
      ]
    },
    {
      "cell_type": "markdown",
      "metadata": {
        "id": "13oBxnzwMm0z"
      },
      "source": [
        "#Clase 1 python, instalación"
      ]
    },
    {
      "cell_type": "code",
      "metadata": {
        "colab": {
          "base_uri": "https://localhost:8080/"
        },
        "id": "XMnzyCoBNWk4",
        "outputId": "d1c1ab49-f002-4b09-e2fb-b4bb2c4cc83e"
      },
      "source": [
        "a=5+3\n",
        "print (a)"
      ],
      "execution_count": null,
      "outputs": [
        {
          "output_type": "stream",
          "text": [
            "8\n"
          ],
          "name": "stdout"
        }
      ]
    }
  ]
}
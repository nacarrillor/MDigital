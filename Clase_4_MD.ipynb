{
  "nbformat": 4,
  "nbformat_minor": 0,
  "metadata": {
    "colab": {
      "name": "Clase 4 MD",
      "provenance": [],
      "authorship_tag": "ABX9TyO+gJOaNJa4ljWI3Rbt3C43",
      "include_colab_link": true
    },
    "kernelspec": {
      "name": "python3",
      "display_name": "Python 3"
    },
    "language_info": {
      "name": "python"
    }
  },
  "cells": [
    {
      "cell_type": "markdown",
      "metadata": {
        "id": "view-in-github",
        "colab_type": "text"
      },
      "source": [
        "<a href=\"https://colab.research.google.com/github/nacarrillor/MDigital/blob/main/Clase_4_MD.ipynb\" target=\"_parent\"><img src=\"https://colab.research.google.com/assets/colab-badge.svg\" alt=\"Open In Colab\"/></a>"
      ]
    },
    {
      "cell_type": "markdown",
      "metadata": {
        "id": "2cNvj6IziuNR"
      },
      "source": [
        "**Continuación de estructuras de control iterativas**\n",
        "\n",
        "**Acumuladores:**\n",
        "\n",
        "Se le da este nombre a las variables que se encargan de \"almacenar\" algún tipo de información. \n",
        "\n",
        "*Ejemplo:*\n",
        "\n",
        "El caso de la compra de viveres en la tienda:"
      ]
    },
    {
      "cell_type": "code",
      "metadata": {
        "colab": {
          "base_uri": "https://localhost:8080/"
        },
        "id": "WZhWiMCMiiS7",
        "outputId": "8942bcf5-c8ef-44ec-b0a9-b2f5783fefbd"
      },
      "source": [
        "nombre= input(\"Nombre del consumidor: \")\n",
        "listacomp=\"\"\n",
        "print(nombre, \"escribe los siguientes viveres para su compra en el supermercado\")\n",
        "listacomp= listacomp+\"1 Paca de papel higiénico\"\n",
        "print(\"---Compras que tengo que hacer---\")\n",
        "print(listacomp)\n",
        "listacomp=listacomp+\", Shampoo pantene 2 in 1\"\n",
        "listacomp=listacomp+\", 2 pacas de pañales pequeñin etapa 3\"\n",
        "print(listacomp)"
      ],
      "execution_count": 9,
      "outputs": [
        {
          "output_type": "stream",
          "text": [
            "Nombre del consumidor: aleja\n",
            "aleja escribe los siguientes viveres para su compra en el supermercado\n",
            "---Compras que tengo que hacer---\n",
            "1 Paca de papel higiénico\n",
            "1 Paca de papel higiénico, Shampoo pantene 2 in 1, 2 pacas de pañales pequeñin etapa 3\n"
          ],
          "name": "stdout"
        }
      ]
    },
    {
      "cell_type": "markdown",
      "metadata": {
        "id": "x9VQXlXglSnh"
      },
      "source": [
        "*Nota*:\n",
        "La variable \"listacomp\" nos está sirviendo para acumular información de la lista de compras.\n",
        "Podemos observar, que **NO** estamos creando una variable por cada item, sino, una variable definida nos sirve para almacenar la información.\n",
        "\n",
        "A continuación observemos un ejemplo donde se ponga en práctica el uso de acumulación en una variable usando cantidades y precios."
      ]
    },
    {
      "cell_type": "code",
      "metadata": {
        "colab": {
          "base_uri": "https://localhost:8080/"
        },
        "id": "X10n-2K7l_EI",
        "outputId": "dc67088d-5703-4902-e5d1-3a447f293994"
      },
      "source": [
        "ppph= 14000 #Precio de paca de papel higiénico\n",
        "cppph= 2 #Cantidad de pacas de papel higiénico\n",
        "pshamp= 18000 # Precio de Shampoo pantene 2 in 1\n",
        "cshamp = 4 #Cantidad de Shampoo pantene 2 in 1\n",
        "pppanales= 17000 #Precio de paca de pañales\n",
        "cpppanales = 3 #Cantidad de paca de pañales\n",
        "\n",
        "subtotal = 0\n",
        "print (\"Calculando el total de la compra...\")\n",
        "total_ppph = ppph*cppph\n",
        "print(\"El valor total de papel higiénico es: $\", total_ppph)\n",
        "subtotal= subtotal+ total_ppph\n",
        "print(\"El subtotal es: $\", subtotal)\n",
        "totalshamp= pshamp*cshamp\n",
        "print(\"El valor total de shampoo es: $\", totalshamp)\n",
        "subtotal=subtotal+ totalshamp\n",
        "print(\"---El subtotal es: $\", subtotal)\n",
        "totalppanales=pppanales*cpppanales\n",
        "print (\"El valor total para pañales es: $\", totalppanales)\n",
        "subtotal= subtotal+totalppanales\n",
        "print (\"El total de su compra es: $\", subtotal)"
      ],
      "execution_count": 22,
      "outputs": [
        {
          "output_type": "stream",
          "text": [
            "Calculando el total de la compra...\n",
            "El valor total de papel higiénico es: $ 28000\n",
            "El subtotal es: $ 28000\n",
            "El valor total de shampoo es: $ 72000\n",
            "---El subtotal es: $ 100000\n",
            "El valor total para pañales es: $ 51000\n",
            "El total de su compra es: $ 151000\n"
          ],
          "name": "stdout"
        }
      ]
    },
    {
      "cell_type": "markdown",
      "metadata": {
        "id": "lQ81VlL5o7y7"
      },
      "source": [
        "**Contadores**\n",
        "\n",
        "Tiene mucha relación con los \"acumuladores\" visto en el apartado anterior.\n",
        "Estas variables se caracterizan por ser variables de control, es decir, controlan la *cantidad* de veces que se ejecuta determinada acción.\n",
        "\n",
        "Usando el ejemplo anterior y modificandolo un poco podemos desarrollar el siguiente algoritmo:"
      ]
    },
    {
      "cell_type": "code",
      "metadata": {
        "colab": {
          "base_uri": "https://localhost:8080/"
        },
        "id": "5vHe6fS9pa1U",
        "outputId": "4abd4391-a0c5-4a7b-80c8-098feb5a8fb7"
      },
      "source": [
        "#Se comprará pañales por unidad en este caso\n",
        "\n",
        "contp=0\n",
        "print(\"Se realizará la compra de pañales etapa 3... Se ha iniciado la compra y asignación en el carrito. En total hay:\", contp, \"pañales\")\n",
        "contp= contp+1\n",
        "print(\"Se realizará la compra de pañales etapa 3... Se ha iniciado la compra y asignación en el carrito. Ahora hay:\", contp, \"pañales\")\n",
        "contp= contp+2\n",
        "print(\"Se realizará la compra de pañales etapa 3... Se ha iniciado la compra y asignación en el carrito. Ahora hay:\", contp, \"pañales\")\n",
        "contp= contp+1\n",
        "print(\"Se realizará la compra de pañales etapa 3... Se ha iniciado la compra y asignación en el carrito. Ahora hay:\", contp, \"pañales\")\n",
        "contp= contp+1\n",
        "print(\"Se realizará la compra de pañales etapa 3... Se ha iniciado la compra y asignación en el carrito. Ahora hay:\", contp, \"pañales\")"
      ],
      "execution_count": 25,
      "outputs": [
        {
          "output_type": "stream",
          "text": [
            "Se realizará la compra de pañales etapa 3... Se ha iniciado la compra y asignación en el carrito. En total hay: 0 pañales\n",
            "Se realizará la compra de pañales etapa 3... Se ha iniciado la compra y asignación en el carrito. Ahora hay: 1 pañales\n",
            "Se realizará la compra de pañales etapa 3... Se ha iniciado la compra y asignación en el carrito. Ahora hay: 3 pañales\n",
            "Se realizará la compra de pañales etapa 3... Se ha iniciado la compra y asignación en el carrito. Ahora hay: 4 pañales\n",
            "Se realizará la compra de pañales etapa 3... Se ha iniciado la compra y asignación en el carrito. Ahora hay: 5 pañales\n"
          ],
          "name": "stdout"
        }
      ]
    },
    {
      "cell_type": "markdown",
      "metadata": {
        "id": "hFfmAWp2q_lH"
      },
      "source": [
        "**Ciclos controlados por condiciones**\n",
        "---\n",
        "\n",
        "*WHILE* \n",
        "\n",
        "---\n",
        "Recordemos que las variables de control, nos permite manejar estados, pasar de un estado a otro, es por ejemplo: Una variable que no contiene elementos a contenerlos, o una variable con un elemento en particular (Acumulador o contador) y cambiarlo por completo (Bandera).\n",
        "\n",
        "Estas variables de control, son la base de los ciclos de control. Siendo más claros, pasar de una adición manual a algo más automatizado.\n",
        "\n",
        "Empezamos con el ciclo \"WHILE\". En español es \"mientras\". Este ciclo se compone de una **condición** y su **bloque de código**. Lo que nos quiere decir el While es que el bloque de código se ejecutara **mientras** la condición da como resultado True or False."
      ]
    },
    {
      "cell_type": "code",
      "metadata": {
        "colab": {
          "base_uri": "https://localhost:8080/"
        },
        "id": "hzj1eVTxsGh3",
        "outputId": "750fb63a-f8fd-4821-a986-0eafb28f8ffe"
      },
      "source": [
        "lapiz=5\n",
        "contlapiz= 0\n",
        "print(\"Se ha iniciado la compra. En total hay:\", contlapiz, lapiz)\n",
        "\n",
        "while (contlapiz < lapiz):\n",
        "  contlapiz= contlapiz+1\n",
        "  #print (\"Se ha realizado la compra de lapices. Ahora hay\" + str(contlapiz)+\"lapiz\")\n",
        "  print (\"Se ha realizado la compra de lapices. Ahora hay\" ,contlapiz, \"lapiz\")\n",
        "                                                                 \n",
        "a = str(contlapiz)\n",
        "print (type(contlapiz))\n",
        "print (type(a))"
      ],
      "execution_count": 36,
      "outputs": [
        {
          "output_type": "stream",
          "text": [
            "Se ha iniciado la compra. En total hay: 0 5\n",
            "Se ha realizado la compra de lapices. Ahora hay 1 lapiz\n",
            "Se ha realizado la compra de lapices. Ahora hay 2 lapiz\n",
            "Se ha realizado la compra de lapices. Ahora hay 3 lapiz\n",
            "Se ha realizado la compra de lapices. Ahora hay 4 lapiz\n",
            "Se ha realizado la compra de lapices. Ahora hay 5 lapiz\n",
            "<class 'int'>\n",
            "<class 'str'>\n"
          ],
          "name": "stdout"
        }
      ]
    },
    {
      "cell_type": "markdown",
      "metadata": {
        "id": "p-WZoP5jvFyP"
      },
      "source": [
        "*Nota:*\n",
        "---\n",
        "Tener en cuenta que dentro del ciclo de WHILE se va afectando las variables implicadas en la declaración de la condición que debe cumplir el ciclo. En el ejemplo anterior, la variable *contlapiz* para que en algún momento, la condición sea verdadera y termine el ciclo se tiene que cumplir la condición (contlapiz<lapiz). De lo contrario, tendríamos un ciclo que nunca se detendría, lo cual decantaria en un ciclo infinito o interminable."
      ]
    },
    {
      "cell_type": "markdown",
      "metadata": {
        "id": "9SVtiz9AwBeh"
      },
      "source": [
        "**CICLO DE FOR**\n",
        "---\n",
        "\n",
        "Es un ciclo especializado y optimizado para los ciclos controlados por la cantidad. Se compone de tres elementos:\n",
        "\n",
        "1. La variable de iteración\n",
        "2. Elemento de iteración\n",
        "3. Bloque de código a iterar.\n",
        "\n",
        "**¿Ventajas de usar el FOR?**\n",
        "En Python es muy importante y se considera una herramienta bastante flexible y poderosa, por permitir ingresar estructuras de datos complejas, cadena de caracteres, rango, entre otros.\n",
        "Los elementos de iteración usados en esta estructura de datos son necesario que tengan la siguiente caracteristica:\n",
        "1. Cantidad definida (Esto lo diferencia totalmente de while). El while parte de una condición de verdad, pero el **FOR** parte de una cantidad definida.\n",
        "\n",
        " "
      ]
    },
    {
      "cell_type": "code",
      "metadata": {
        "colab": {
          "base_uri": "https://localhost:8080/"
        },
        "id": "9IEoQxizxUDQ",
        "outputId": "de5a6b22-8753-4603-f078-a20c71edb7a0"
      },
      "source": [
        "#Retomando el ejemplo de la compra de lapices\n",
        "print (\"Se ha iniciado la compra. En total hay: 0 lapices.\")\n",
        "for i in range(1,6): #En los rangos, la función range manejan un intervalo abierto a la derecha y cerrado a la izquierda (o sea termina en un número menor a la derecha, en este caso 5)\n",
        "  print (\"Se ha realizado la compra de lapices. Ahora hay\", i, \"lapices.\")"
      ],
      "execution_count": 38,
      "outputs": [
        {
          "output_type": "stream",
          "text": [
            "Se ha iniciado la compra. En total hay: 0 lapices.\n",
            "Se ha realizado la compra de lapices. Ahora hay 1 lapices.\n",
            "Se ha realizado la compra de lapices. Ahora hay 2 lapices.\n",
            "Se ha realizado la compra de lapices. Ahora hay 3 lapices.\n",
            "Se ha realizado la compra de lapices. Ahora hay 4 lapices.\n",
            "Se ha realizado la compra de lapices. Ahora hay 5 lapices.\n"
          ],
          "name": "stdout"
        }
      ]
    }
  ]
}
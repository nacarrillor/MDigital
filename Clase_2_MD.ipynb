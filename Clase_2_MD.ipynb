{
  "nbformat": 4,
  "nbformat_minor": 0,
  "metadata": {
    "colab": {
      "name": "Clase 2 MD",
      "provenance": [],
      "authorship_tag": "ABX9TyPbPSgCP1fKkHUMmRpP2K23",
      "include_colab_link": true
    },
    "kernelspec": {
      "name": "python3",
      "display_name": "Python 3"
    },
    "language_info": {
      "name": "python"
    }
  },
  "cells": [
    {
      "cell_type": "markdown",
      "metadata": {
        "id": "view-in-github",
        "colab_type": "text"
      },
      "source": [
        "<a href=\"https://colab.research.google.com/github/nacarrillor/MDigital/blob/main/Clase_2_MD.ipynb\" target=\"_parent\"><img src=\"https://colab.research.google.com/assets/colab-badge.svg\" alt=\"Open In Colab\"/></a>"
      ]
    },
    {
      "cell_type": "markdown",
      "metadata": {
        "id": "4uO-6Hn1MtVV"
      },
      "source": [
        "##**Introdución**\n",
        "\n",
        "En python hay varios tipos de datos compuestos y estan disponibles por defecto en los interpretes.\n",
        "\n",
        "**¿De qué tipo?**\n",
        "1. Númericos\n",
        "2. Secuencias\n",
        "3. Mapeos\n",
        "4. Conjuntos usados para agrupar otros valores\n",
        "\n",
        "#**Diferencia entre constantes y variables**\n",
        "\n",
        "En matemáticas llamamos constante a una magnitud que no cambia con el paso del tiempo.\n",
        "Ejemplo 1: Contabilidad: Gastos fijos, muebles de oficina.\n",
        "Ejemplo 2: 6\n",
        "\n",
        "Por otro lado, el concepto de variable, la podemos definir como la cantidad que es susceptible a tomar distintos valores numéricos.\n",
        "\n",
        "Ejemplo: \n"
      ]
    },
    {
      "cell_type": "code",
      "metadata": {
        "id": "0r87N-rnOIKW"
      },
      "source": [
        ""
      ],
      "execution_count": null,
      "outputs": []
    }
  ]
}
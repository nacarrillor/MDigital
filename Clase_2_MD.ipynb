{
  "nbformat": 4,
  "nbformat_minor": 0,
  "metadata": {
    "colab": {
      "name": "Clase 2 MD",
      "provenance": [],
      "authorship_tag": "ABX9TyNetknof6gHVInDtwDOzvqx",
      "include_colab_link": true
    },
    "kernelspec": {
      "name": "python3",
      "display_name": "Python 3"
    },
    "language_info": {
      "name": "python"
    }
  },
  "cells": [
    {
      "cell_type": "markdown",
      "metadata": {
        "id": "view-in-github",
        "colab_type": "text"
      },
      "source": [
        "<a href=\"https://colab.research.google.com/github/nacarrillor/MDigital/blob/main/Clase_2_MD.ipynb\" target=\"_parent\"><img src=\"https://colab.research.google.com/assets/colab-badge.svg\" alt=\"Open In Colab\"/></a>"
      ]
    },
    {
      "cell_type": "markdown",
      "metadata": {
        "id": "4uO-6Hn1MtVV"
      },
      "source": [
        "#**Introdución**\n",
        "\n",
        "Para manejar un código limpio en Python, podemos seguir las siguientes recomendaciones:\n",
        "\n",
        "1. Manejar siempre minuscula.\n",
        "2. Se puede añadir números\n",
        "3. Aparecera error si no están seguidos de la declaración de la variable con el número asignado, es decir. Ejemplo: ana1(correcto) ana 1 (incorrecto por el espacio = error)\n",
        "\n",
        "En python hay varios tipos de datos compuestos y estan disponibles por defecto en los interpretes.\n",
        "\n",
        "**¿De qué tipo?**\n",
        "1. Númericos\n",
        "2. Secuencias\n",
        "3. Mapeos\n",
        "4. Conjuntos usados para agrupar otros valores\n",
        "\n",
        "#**Diferencia entre constantes y variables**\n",
        "\n",
        "En matemáticas llamamos constante a una magnitud que no cambia con el paso del tiempo.\n",
        "Ejemplo 1: Contabilidad: Gastos fijos, muebles de oficina.\n",
        "Ejemplo 2: 6\n",
        "\n",
        "Por otro lado, el concepto de variable, la podemos definir como la cantidad que es susceptible a tomar distintos valores numéricos.\n",
        "\n",
        "Ejemplo: \n"
      ]
    },
    {
      "cell_type": "code",
      "metadata": {
        "colab": {
          "base_uri": "https://localhost:8080/"
        },
        "id": "0r87N-rnOIKW",
        "outputId": "06191500-a11d-4f7c-c2f9-384c3c13e1ac"
      },
      "source": [
        "x=30\n",
        "print (x)"
      ],
      "execution_count": 2,
      "outputs": [
        {
          "output_type": "stream",
          "text": [
            "30\n"
          ],
          "name": "stdout"
        }
      ]
    },
    {
      "cell_type": "markdown",
      "metadata": {
        "id": "8Xj85cSIO05I"
      },
      "source": [
        "**Tipos de datos**\n",
        "\n",
        "\n",
        "**Enteros**\n",
        "\n",
        "-Son los números que no tienen decimales\n",
        "\n",
        "-Pueden ser positivos y negativos"
      ]
    },
    {
      "cell_type": "code",
      "metadata": {
        "colab": {
          "base_uri": "https://localhost:8080/"
        },
        "id": "xGNafcp0PKtr",
        "outputId": "aae715e5-e16f-4910-e9e4-1815e3dc46a5"
      },
      "source": [
        "a=int(3.44)\n",
        "print (a)"
      ],
      "execution_count": 3,
      "outputs": [
        {
          "output_type": "stream",
          "text": [
            "3\n"
          ],
          "name": "stdout"
        }
      ]
    },
    {
      "cell_type": "markdown",
      "metadata": {
        "id": "htgOzs-aZhwl"
      },
      "source": [
        "El comando int es para hacer alusión a números enteros. A parte el comando float, permite valores decimales."
      ]
    },
    {
      "cell_type": "code",
      "metadata": {
        "colab": {
          "base_uri": "https://localhost:8080/"
        },
        "id": "lnBBjZD2Zofk",
        "outputId": "8e6010b9-391d-4bf8-8672-beaaf4478ecb"
      },
      "source": [
        "b=float(0.23)\n",
        "print (b)"
      ],
      "execution_count": 4,
      "outputs": [
        {
          "output_type": "stream",
          "text": [
            "0.23\n"
          ],
          "name": "stdout"
        }
      ]
    },
    {
      "cell_type": "markdown",
      "metadata": {
        "id": "qQYdTRcWZw00"
      },
      "source": [
        "#**Tipo Cadena**\n",
        "\n",
        "Las cadenas son texto ecerrado entre comillas (Simples o dobles) y se pueden conformar de diferentes caracteres (númericos, alfabéticos, especiales /&%$#). TENER EN CUENTA, LAS CADENAS ADMITEN OPERADORES COMO LA SUMA Y RESTA. (Variable String)"
      ]
    },
    {
      "cell_type": "code",
      "metadata": {
        "colab": {
          "base_uri": "https://localhost:8080/"
        },
        "id": "sktDSxhx3Fx4",
        "outputId": "8fa48267-4076-4168-e2a1-4cd8eea0e2ba"
      },
      "source": [
        "Val2= \"Hola mundo\"\n",
        "print (Val2)\n",
        "val1 = \"Aleja\"\n",
        "print(val1)"
      ],
      "execution_count": 2,
      "outputs": [
        {
          "output_type": "stream",
          "text": [
            "Hola mundo\n",
            "Aleja\n"
          ],
          "name": "stdout"
        }
      ]
    },
    {
      "cell_type": "code",
      "metadata": {
        "colab": {
          "base_uri": "https://localhost:8080/"
        },
        "id": "zMDa-qmh3Q8x",
        "outputId": "1549f63a-2393-4a2a-cf13-c25b80e0fa57"
      },
      "source": [
        "n= \"Aprender\"\n",
        "z= \"Python\"\n",
        "nz= n+\"\"+z\n",
        "print (n,z)"
      ],
      "execution_count": 13,
      "outputs": [
        {
          "output_type": "stream",
          "text": [
            "Aprender Python\n"
          ],
          "name": "stdout"
        }
      ]
    },
    {
      "cell_type": "code",
      "metadata": {
        "colab": {
          "base_uri": "https://localhost:8080/"
        },
        "id": "LB4WZjWg32nb",
        "outputId": "cba25551-8e02-4332-98a2-10dddf4cf804"
      },
      "source": [
        "#Tipo cadena lo cambio a string\n",
        "q= \"5\"\n",
        "p= \"2\"\n",
        "b= int(p)\n",
        "c= int(q)\n",
        "print (b-c)"
      ],
      "execution_count": 14,
      "outputs": [
        {
          "output_type": "stream",
          "text": [
            "-3\n"
          ],
          "name": "stdout"
        }
      ]
    },
    {
      "cell_type": "code",
      "metadata": {
        "id": "QF7u6Ubi5HK2"
      },
      "source": [
        ""
      ],
      "execution_count": null,
      "outputs": []
    },
    {
      "cell_type": "markdown",
      "metadata": {
        "id": "147MbsOu450f"
      },
      "source": [
        "**Tipo Booleanos**\n",
        "\n",
        "Este tipo de variable solo tendrá un valor Verdadero o Falso\n",
        "\n",
        "**Nota**\n",
        "\n",
        "Son valoresmuy usados en condicionales y bucles\n"
      ]
    },
    {
      "cell_type": "code",
      "metadata": {
        "colab": {
          "base_uri": "https://localhost:8080/"
        },
        "id": "ZyRbBEPf5HwT",
        "outputId": "d671e2bb-7d01-49bf-8201-981c02ab0def"
      },
      "source": [
        "lola= False\n",
        "print(\"El valor es verdadero:\", lola, \",el cual es de tipo\", type(lola))"
      ],
      "execution_count": 19,
      "outputs": [
        {
          "output_type": "stream",
          "text": [
            "El valor es verdadero: False ,el cual es de tipo <class 'bool'>\n"
          ],
          "name": "stdout"
        }
      ]
    },
    {
      "cell_type": "markdown",
      "metadata": {
        "id": "58fVY27E5sIV"
      },
      "source": [
        "Python cuenta con tipos de datos que admiten colecciones:\n",
        "\n",
        "1. Listas\n",
        "2. Tuplas\n",
        "3. Diccionarios\n",
        "\n",
        "**Tipo de conjuntos:**\n",
        "\n",
        "Son una colección de datos sin elementos que se repiten"
      ]
    },
    {
      "cell_type": "code",
      "metadata": {
        "colab": {
          "base_uri": "https://localhost:8080/"
        },
        "id": "s-PoPpT359L6",
        "outputId": "ad6e33fb-c958-4bc6-911b-4d2ba10e517e"
      },
      "source": [
        "fru= \"pera\", \"manzana\", \"naranja\"\n",
        "color = \"morado\", \"blanco\", \"azul\"\n",
        "print (fru, color)\n"
      ],
      "execution_count": 22,
      "outputs": [
        {
          "output_type": "stream",
          "text": [
            "('pera', 'manzana', 'naranja') ('morado', 'blanco', 'azul')\n"
          ],
          "name": "stdout"
        }
      ]
    },
    {
      "cell_type": "markdown",
      "metadata": {
        "id": "uHoh6xJv6P04"
      },
      "source": [
        "**Tipo Listas**\n",
        "\n",
        "Son listas que almacenan vectores.\n",
        "Las listas siempre empiezan a nombrarse desde el elemento cero.\n",
        "\n",
        "Ejemplo de listas en Python\n"
      ]
    },
    {
      "cell_type": "code",
      "metadata": {
        "colab": {
          "base_uri": "https://localhost:8080/"
        },
        "id": "zCjQH7u76bOc",
        "outputId": "8e34c764-ea80-4475-87fb-f0ebcee8e014"
      },
      "source": [
        "ines= ['1','uva','lila','perro', 'celular', 'micro','botella', 'tetero','10']\n",
        "print(ines)\n",
        "fe= ines[0:3:2]\n",
        "print(fe)"
      ],
      "execution_count": 25,
      "outputs": [
        {
          "output_type": "stream",
          "text": [
            "['1', 'uva', 'lila', 'perro', 'celular', 'micro', 'botella', 'tetero', '10']\n",
            "['1', 'lila']\n"
          ],
          "name": "stdout"
        }
      ]
    },
    {
      "cell_type": "markdown",
      "metadata": {
        "id": "o7SI63vc7dTB"
      },
      "source": [
        "**Tipo tuplas**\n",
        "\n",
        "Es una lista que no se puede modificar después de la modificación de esta:\n",
        "Son de caracter de conjunto\n",
        "\n",
        "Tuplas anidadas: Agrupación (Tuplas).\n",
        "\n"
      ]
    },
    {
      "cell_type": "code",
      "metadata": {
        "colab": {
          "base_uri": "https://localhost:8080/"
        },
        "id": "Ox3P4oMO7NO_",
        "outputId": "d49c3f66-6874-4bab-9d24-f591f009cf24"
      },
      "source": [
        "tupla= 23, 28, 'hello'\n",
        "print (tupla)\n",
        "#ANIDADO, es agrupado, como el siguiente:\n",
        "OTRA= tupla, (1,2,3,4)\n",
        "print (OTRA)"
      ],
      "execution_count": 29,
      "outputs": [
        {
          "output_type": "stream",
          "text": [
            "(23, 28, 'hello')\n",
            "((23, 28, 'hello'), (1, 2, 3, 4))\n"
          ],
          "name": "stdout"
        }
      ]
    },
    {
      "cell_type": "markdown",
      "metadata": {
        "id": "2EGMePsB9Ix0"
      },
      "source": [
        "**Tipo Diccionarios**\n",
        "\n",
        "Define los datos uno a uno, entre un campo (ID= IDENTIFICADOR, CLAVE) y un valor"
      ]
    },
    {
      "cell_type": "code",
      "metadata": {
        "colab": {
          "base_uri": "https://localhost:8080/"
        },
        "id": "lKEaeUEG9m-q",
        "outputId": "1130b551-1f38-4d55-a4d5-e70f69fe2bb7"
      },
      "source": [
        "Datos_b= {\n",
        "    \"Nombres\": \"Diana\",\n",
        "    \"Apellido\": \"Perea\",\n",
        "    \"Cedula\":\"12345\",\n",
        "    \"Est_Civil\": \"viuda\",\n",
        "    \"Lugar_Naci\": \"Neiva\",\n",
        "    \"Fecha de nacimiento\": \"24/12/1980\",\n",
        "}\n",
        "print(\"ID del diccionario\", Datos_b.keys())\n",
        "print(\"ID del diccionario\", Datos_b.values())\n",
        "print(\"ID del diccionario\", Datos_b.items())\n",
        "print(\"Cedula\", Datos_b['Cedula'])"
      ],
      "execution_count": 38,
      "outputs": [
        {
          "output_type": "stream",
          "text": [
            "ID del diccionario dict_keys(['Nombres', 'Apellido', 'Cedula', 'Est_Civil', 'Lugar_Naci', 'Fecha de nacimiento'])\n",
            "ID del diccionario dict_values(['Diana', 'Perea', '12345', 'viuda', 'Neiva', '24/12/1980'])\n",
            "ID del diccionario dict_items([('Nombres', 'Diana'), ('Apellido', 'Perea'), ('Cedula', '12345'), ('Est_Civil', 'viuda'), ('Lugar_Naci', 'Neiva'), ('Fecha de nacimiento', '24/12/1980')])\n",
            "Cedula 12345\n"
          ],
          "name": "stdout"
        }
      ]
    },
    {
      "cell_type": "markdown",
      "metadata": {
        "id": "42yfsCCy-qVJ"
      },
      "source": [
        "**Ejemplo práctico (caracteristicas de los carros)**"
      ]
    },
    {
      "cell_type": "code",
      "metadata": {
        "colab": {
          "base_uri": "https://localhost:8080/"
        },
        "id": "_qy1C933-ox-",
        "outputId": "66fe3533-addd-45fa-af0c-11d5618be1f6"
      },
      "source": [
        "Carros_0={}\n",
        "Carros_0['tam']='grande'\n",
        "Carros_0['color']= 'negro'\n",
        "Carros_0['marca']= 'renault'\n",
        "Carros_0['precio']= 60\n",
        "\n",
        "Carros_1={}\n",
        "Carros_1['tam']='pequeño'\n",
        "Carros_1['color']= 'blanco'\n",
        "Carros_1['marca']= 'renault'\n",
        "Carros_1['precio']= 37\n",
        "print (Carros_0)\n",
        "print (Carros_1)\n",
        "\n",
        "Compra0= Carros_0['precio']\n",
        "Compra1= Carros_1['precio']\n",
        "Compratotal= Compra0+Compra1\n",
        "\n",
        "print (\"La compra total fue de:\", Compratotal)"
      ],
      "execution_count": 37,
      "outputs": [
        {
          "output_type": "stream",
          "text": [
            "{'tam': 'grande', 'color': 'negro', 'marca': 'renault', 'precio': 60}\n",
            "{'tam': 'pequeño', 'color': 'blanco', 'marca': 'renault', 'precio': 37}\n",
            "La compra total fue de: 97\n"
          ],
          "name": "stdout"
        }
      ]
    }
  ]
}
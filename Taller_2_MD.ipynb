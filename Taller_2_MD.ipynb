{
  "nbformat": 4,
  "nbformat_minor": 0,
  "metadata": {
    "colab": {
      "name": "Taller 2 MD",
      "provenance": [],
      "collapsed_sections": [],
      "include_colab_link": true
    },
    "kernelspec": {
      "name": "python3",
      "display_name": "Python 3"
    },
    "language_info": {
      "name": "python"
    }
  },
  "cells": [
    {
      "cell_type": "markdown",
      "metadata": {
        "id": "view-in-github",
        "colab_type": "text"
      },
      "source": [
        "<a href=\"https://colab.research.google.com/github/nacarrillor/MDigital/blob/main/Taller_2_MD.ipynb\" target=\"_parent\"><img src=\"https://colab.research.google.com/assets/colab-badge.svg\" alt=\"Open In Colab\"/></a>"
      ]
    },
    {
      "cell_type": "markdown",
      "metadata": {
        "id": "8n1m0w0LJKvU"
      },
      "source": [
        "**Alejandra Carrillo**\n",
        "\n",
        "##TALLER 2\n",
        "\n",
        "---\n",
        "\n",
        "Se solicita realizar un programa que permita identificar el nivel de cumplimiento del area de ventas de la empresa AVA. Entre los principales requerimientos se encuentran los siguientientes:\n",
        "\n",
        "1. Permita ingresar la cantidad de vendedores del área de ventas.\n",
        "2. Permita ingresar la puntuación para cada uno de ellos (escala de 1 a 10).\n",
        "3. El programa debe permitir identificar el vendedor con peor rendimiento y mejor rendimiento.\n",
        "4. Obtener también el promedio general del nivel de cumplimiento del área de ventas.\n",
        "\n",
        "Nota: Si hay empate en la puntuación para definir el primer y último puesto, se define por orden alfabetico. \n"
      ]
    },
    {
      "cell_type": "code",
      "metadata": {
        "id": "azFX5ozHNBOX",
        "colab": {
          "base_uri": "https://localhost:8080/"
        },
        "outputId": "7541f8ea-ab02-48e5-da19-97830602341b"
      },
      "source": [
        "def vendedores(numerov):\n",
        "  ventas=[]\n",
        "  print(\"-----------------------------------\")\n",
        "  print(\"Ingresa los datos de los vendedores\")\n",
        "  print(\"-----------------------------------\")\n",
        "  for x in range(numerov):\n",
        "    nombre=input(\"Nombre del vendedor \" + str(x+1) + \" : \")\n",
        "    cant= int(input(\"Puntuación vendedor \" + nombre + \" : \"))\n",
        "    ventas.append((nombre, cant))\n",
        "  return ventas\n",
        "\n",
        "def view(ventas):\n",
        "  print (\"Puntuación vendedores: \")\n",
        "  for x in range(len(ventas)):\n",
        "    print(ventas[x][0], ventas[x][1])\n",
        "\n",
        "def mayor(ventas):\n",
        "  v=0\n",
        "  ventas=sorted(ventas)\n",
        "  for x in range (0, len(ventas)):\n",
        "      if ventas[x][1]>ventas[v][1]:\n",
        "        v=x\n",
        "  print(\"El vendedor con mayor rendimiento es: \" , str(ventas[v][0]))\n",
        "\n",
        "def menor(ventas):\n",
        "  v=0\n",
        "  ventas=sorted(ventas)\n",
        "  for x in range(0, len(ventas)):\n",
        "      if ventas[x][1]<ventas[v][1]:\n",
        "        v=x\n",
        "  print(\"El vendedor con menor rendimiento es: \" , str(ventas[v][0]))\n",
        "\n",
        "def promedio(ventas):\n",
        "  suma=0\n",
        "  for x in range(0, len(ventas)):\n",
        "      suma = suma + ventas[x][1]\n",
        "  v= suma/len(ventas)\n",
        "  print(\"El promedio de ventas es: \" , str(v))\n",
        "\n",
        "\n",
        "numerov= int(input(\"Ingrese el número de vendedores: \"))\n",
        "ventas=vendedores(numerov)\n",
        "view(ventas)\n",
        "mayor(ventas)\n",
        "menor(ventas)\n",
        "promedio(ventas)\n",
        "\n",
        "\n",
        "\n",
        "\n"
      ],
      "execution_count": 46,
      "outputs": [
        {
          "output_type": "stream",
          "text": [
            "Ingrese el número de vendedores: 4\n",
            "-----------------------------------\n",
            "Ingresa los datos de los vendedores\n",
            "-----------------------------------\n",
            "Nombre del vendedor 1 : ana\n",
            "Puntuación vendedor ana : 5\n",
            "Nombre del vendedor 2 : luis\n",
            "Puntuación vendedor luis : 5\n",
            "Nombre del vendedor 3 : juan\n",
            "Puntuación vendedor juan : 9\n",
            "Nombre del vendedor 4 : jaime9\n",
            "Puntuación vendedor jaime9 : 9\n",
            "Puntuación vendedores: \n",
            "ana 5\n",
            "luis 5\n",
            "juan 9\n",
            "jaime9 9\n",
            "El vendedor con mayor rendimiento es:  jaime9\n",
            "El vendedor con menor rendimiento es:  ana\n",
            "El promedio de ventas es:  7.0\n"
          ],
          "name": "stdout"
        }
      ]
    }
  ]
}
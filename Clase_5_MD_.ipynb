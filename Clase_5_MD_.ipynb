{
  "nbformat": 4,
  "nbformat_minor": 0,
  "metadata": {
    "colab": {
      "name": "Clase 5 MD.",
      "provenance": [],
      "authorship_tag": "ABX9TyOr8a0NeHW/BhufsvmkTB4l",
      "include_colab_link": true
    },
    "kernelspec": {
      "name": "python3",
      "display_name": "Python 3"
    },
    "language_info": {
      "name": "python"
    }
  },
  "cells": [
    {
      "cell_type": "markdown",
      "metadata": {
        "id": "view-in-github",
        "colab_type": "text"
      },
      "source": [
        "<a href=\"https://colab.research.google.com/github/nacarrillor/MDigital/blob/main/Clase_5_MD_.ipynb\" target=\"_parent\"><img src=\"https://colab.research.google.com/assets/colab-badge.svg\" alt=\"Open In Colab\"/></a>"
      ]
    },
    {
      "cell_type": "markdown",
      "metadata": {
        "id": "TrorO5Mqoj-f"
      },
      "source": [
        "**CONTINUACIÓN DE CICLOS**\n",
        "\n",
        "---\n",
        "\n",
        "**Ciclo FOR - Bucle FOR**\n",
        "\n"
      ]
    },
    {
      "cell_type": "code",
      "metadata": {
        "colab": {
          "base_uri": "https://localhost:8080/"
        },
        "id": "CKFFUIj5pr9U",
        "outputId": "3e007d92-a91b-4043-af21-12b4d354f6fd"
      },
      "source": [
        "for i in range (1,5):\n",
        "  print (i)"
      ],
      "execution_count": 1,
      "outputs": [
        {
          "output_type": "stream",
          "text": [
            "1\n",
            "2\n",
            "3\n",
            "4\n"
          ],
          "name": "stdout"
        }
      ]
    },
    {
      "cell_type": "markdown",
      "metadata": {
        "id": "vMh2V66VqA1b"
      },
      "source": [
        "Para dejar claro las partes que componen el bucle FOR, vamos a dejar claro las siguientes definiciones:\n",
        "\n",
        "1. *Iterable:* Como los objetos que pueden ser iterados. Por ejemplo: una lista, un valor tipo cadena, etc.\n",
        "2. *Iterador:* Son objetos que hacen referencia a un elemento (Para hacer referencia a cada uno de los elementos, hay un método denominado \"next\" que permite hacer referencia a los elementos del conjunto.)\n",
        "\n",
        "**for <variable> in <iterable>:**\n",
        "\n",
        "   **<Bloque código>**\n",
        "\n",
        "Algunos ejemplos de iterables en Phyton son las listas, cadenas, diccionarios, tuplas, etc.\n",
        "\n",
        "\n",
        "**¿Cómo saber que es iterable a la hora de programar?**\n",
        "Podemos darnos cuenta que es iterable usando la función que se escribe isinstance(). \n",
        "\n",
        "\n",
        "\n"
      ]
    },
    {
      "cell_type": "code",
      "metadata": {
        "colab": {
          "base_uri": "https://localhost:8080/"
        },
        "id": "oiaMoLq9tbX_",
        "outputId": "d3e874c7-45cc-4819-a0fe-2a4df80fe320"
      },
      "source": [
        "#Paquete Iterable de Collections (Python 3.7) kernel\n",
        "from collections import Iterable"
      ],
      "execution_count": 4,
      "outputs": [
        {
          "output_type": "stream",
          "text": [
            "/usr/local/lib/python3.7/dist-packages/ipykernel_launcher.py:1: DeprecationWarning: Using or importing the ABCs from 'collections' instead of from 'collections.abc' is deprecated since Python 3.3,and in 3.9 it will stop working\n",
            "  \"\"\"Entry point for launching an IPython kernel.\n"
          ],
          "name": "stderr"
        }
      ]
    },
    {
      "cell_type": "code",
      "metadata": {
        "colab": {
          "base_uri": "https://localhost:8080/"
        },
        "id": "GlBS48XUpz7J",
        "outputId": "ca682435-7238-42a6-b715-1196559b12ea"
      },
      "source": [
        "#Ejemplo\n",
        "lista= [1, 2, 3, 4, 5, 6, 7, 8, 9, 0]\n",
        "a= \"computador\"\n",
        "b= 14\n",
        "print (isinstance(lista, Iterable))\n",
        "print (isinstance(a, Iterable))\n",
        "print (isinstance(b, Iterable))\n"
      ],
      "execution_count": 10,
      "outputs": [
        {
          "output_type": "stream",
          "text": [
            "True\n",
            "True\n",
            "False\n"
          ],
          "name": "stdout"
        }
      ]
    },
    {
      "cell_type": "code",
      "metadata": {
        "colab": {
          "base_uri": "https://localhost:8080/",
          "height": 197
        },
        "id": "jgwFOI8hvWkZ",
        "outputId": "57f9ad8a-d066-4357-edca-82665c50bc0c"
      },
      "source": [
        "#No va a correr porque no puedo iterar un solo elemento y va a aparecer error\n",
        "a=30\n",
        "for i in a:\n",
        "  print(i)"
      ],
      "execution_count": 11,
      "outputs": [
        {
          "output_type": "error",
          "ename": "TypeError",
          "evalue": "ignored",
          "traceback": [
            "\u001b[0;31m---------------------------------------------------------------------------\u001b[0m",
            "\u001b[0;31mTypeError\u001b[0m                                 Traceback (most recent call last)",
            "\u001b[0;32m<ipython-input-11-1d62c16627e9>\u001b[0m in \u001b[0;36m<module>\u001b[0;34m()\u001b[0m\n\u001b[1;32m      1\u001b[0m \u001b[0ma\u001b[0m\u001b[0;34m=\u001b[0m\u001b[0;36m30\u001b[0m\u001b[0;34m\u001b[0m\u001b[0;34m\u001b[0m\u001b[0m\n\u001b[0;32m----> 2\u001b[0;31m \u001b[0;32mfor\u001b[0m \u001b[0mi\u001b[0m \u001b[0;32min\u001b[0m \u001b[0ma\u001b[0m\u001b[0;34m:\u001b[0m\u001b[0;34m\u001b[0m\u001b[0;34m\u001b[0m\u001b[0m\n\u001b[0m\u001b[1;32m      3\u001b[0m   \u001b[0mprint\u001b[0m\u001b[0;34m(\u001b[0m\u001b[0mi\u001b[0m\u001b[0;34m)\u001b[0m\u001b[0;34m\u001b[0m\u001b[0;34m\u001b[0m\u001b[0m\n",
            "\u001b[0;31mTypeError\u001b[0m: 'int' object is not iterable"
          ]
        }
      ]
    },
    {
      "cell_type": "markdown",
      "metadata": {
        "id": "XsnGfZdnvs5O"
      },
      "source": [
        "Para entender los \"iteradores\", es importante conocer la función *iter()*, esta función puede ser llamada sobre un objeto que sea iterable, y nos devolverá un iterador"
      ]
    },
    {
      "cell_type": "code",
      "metadata": {
        "colab": {
          "base_uri": "https://localhost:8080/"
        },
        "id": "YHI4iN1-vseZ",
        "outputId": "ec0a8202-c22b-4ef7-e030-a6d6ac4fd1b2"
      },
      "source": [
        "#Ejemplo\n",
        "lista= [1, 2, 3, 4, 5, 6, 7, 8, 9, 0]\n",
        "ref= iter(lista)\n",
        "print(ref)\n",
        "print(type(ref))"
      ],
      "execution_count": 13,
      "outputs": [
        {
          "output_type": "stream",
          "text": [
            "<list_iterator object at 0x7f9dd1ac98d0>\n",
            "<class 'list_iterator'>\n"
          ],
          "name": "stdout"
        }
      ]
    },
    {
      "cell_type": "markdown",
      "metadata": {
        "id": "ThNkDiGjwY0f"
      },
      "source": [
        "Al imprimir ref, es un iterador de la clase list_iterator. Lo cual hace referencia a la lista original y nos permite acceder a sus elementos con la función *next()*.\n",
        "**Nota:** Cada vez que llamemos a next() sobre Ref, nos devuelve el siguiente elemento de la listsa original."
      ]
    },
    {
      "cell_type": "code",
      "metadata": {
        "colab": {
          "base_uri": "https://localhost:8080/"
        },
        "id": "s0ritPc1wmif",
        "outputId": "747ef801-0e90-4e7d-969b-2057b7df9563"
      },
      "source": [
        "#Ejemplo\n",
        "lista= [1, 2, 3, 4, 5, 6, 7, 8, 9, 0]\n",
        "ref= iter(lista)\n",
        "print(next(ref))\n",
        "print(next(ref))\n",
        "print(next(ref))\n",
        "print(next(ref))\n",
        "print(next(ref))\n",
        "print(next(ref))\n",
        "print(next(ref))"
      ],
      "execution_count": 16,
      "outputs": [
        {
          "output_type": "stream",
          "text": [
            "1\n",
            "2\n",
            "3\n",
            "4\n",
            "5\n",
            "6\n",
            "7\n"
          ],
          "name": "stdout"
        }
      ]
    },
    {
      "cell_type": "markdown",
      "metadata": {
        "id": "5y7igpuyxnUY"
      },
      "source": [
        "**Tener en cuenta**\n",
        "Existen otros iteradores para las diferentes clases\n",
        "1. str_iterator para cadenas\n",
        "2. list_iterator para listas\n",
        "3. set_iterator para conjuntos\n",
        "4. dict_keyiterator para diccionarios"
      ]
    },
    {
      "cell_type": "markdown",
      "metadata": {
        "id": "M3EGUTgcx7PC"
      },
      "source": [
        "**For anidados**\n",
        "---\n",
        "\n",
        "Es posible anidar los for, es decir ingresar uno dentro de otro, como lo vemos a continuación.\n"
      ]
    },
    {
      "cell_type": "code",
      "metadata": {
        "colab": {
          "base_uri": "https://localhost:8080/"
        },
        "id": "xU17u8pwySLd",
        "outputId": "e80123b5-518a-45ae-8428-b58a41dac180"
      },
      "source": [
        "#Vamos a crear una lista de listas, lo cual conforma una especie de matriz. Recordemos que una matriz se compone de valores que se distribuyen en filas y columnas\n",
        "qa=[[1,2,3],\n",
        "    [3,4,5],\n",
        "    [7,8,9]]\n",
        "\n",
        "for i in qa:\n",
        "  print(i)\n",
        "\n",
        "for i in qa:\n",
        "  for j in i:\n",
        "    print(j)"
      ],
      "execution_count": 22,
      "outputs": [
        {
          "output_type": "stream",
          "text": [
            "[1, 2, 3]\n",
            "[3, 4, 5]\n",
            "[7, 8, 9]\n",
            "1\n",
            "2\n",
            "3\n",
            "3\n",
            "4\n",
            "5\n",
            "7\n",
            "8\n",
            "9\n"
          ],
          "name": "stdout"
        }
      ]
    },
    {
      "cell_type": "markdown",
      "metadata": {
        "id": "TqZEVtg3zT9L"
      },
      "source": [
        "Si queremos acceder a cada elemento individualmente, se procede a realizar un blucle de FOR anidado. Es decir un for se encargará de iterar las columnas y el otro las filas."
      ]
    },
    {
      "cell_type": "code",
      "metadata": {
        "colab": {
          "base_uri": "https://localhost:8080/"
        },
        "id": "Uu1sM3DRz17i",
        "outputId": "58681bde-45fc-4845-87e9-481ee65118d5"
      },
      "source": [
        "#Otra forma de utilizar sólo el for es la iteración al revés. Es decir que se puede iterar la lista desde el último al primer elemento.\n",
        "lista= [1, 2, 3, 4, 5, 6, 7, 8, 9, 0]\n",
        "for i in lista[::-1]:\n",
        "  print(i)"
      ],
      "execution_count": 23,
      "outputs": [
        {
          "output_type": "stream",
          "text": [
            "0\n",
            "9\n",
            "8\n",
            "7\n",
            "6\n",
            "5\n",
            "4\n",
            "3\n",
            "2\n",
            "1\n"
          ],
          "name": "stdout"
        }
      ]
    },
    {
      "cell_type": "code",
      "metadata": {
        "colab": {
          "base_uri": "https://localhost:8080/"
        },
        "id": "aT1SLX1z0iDz",
        "outputId": "c8070304-a941-4ba9-df31-9c1f3b649735"
      },
      "source": [
        "lista= [1, 2, 3, 4, 5, 6, 7, 8, 9, 0]\n",
        "for i in lista[::2]:\n",
        "  print(i)\n",
        "print(\"----------------\")\n",
        "a= \"computador\"\n",
        "for i in a[::2]:\n",
        "  print(i)"
      ],
      "execution_count": 28,
      "outputs": [
        {
          "output_type": "stream",
          "text": [
            "1\n",
            "3\n",
            "5\n",
            "7\n",
            "9\n",
            "----------------\n",
            "c\n",
            "m\n",
            "u\n",
            "a\n",
            "o\n"
          ],
          "name": "stdout"
        }
      ]
    },
    {
      "cell_type": "code",
      "metadata": {
        "colab": {
          "base_uri": "https://localhost:8080/"
        },
        "id": "oZ46VQjz15Zg",
        "outputId": "8be5da4d-6f4a-4e2c-b531-f8f0dbe52ee0"
      },
      "source": [
        "#Usando rangos\n",
        "for i in range (20):\n",
        "  print(i)\n",
        "#El range () genera una secuencia de números que van desde 0 por defecto hasta el número que se pasa como parámetro menos 2.\n",
        "#Estructura: range (número inicio, número final, número salto para lectura de la iteración)\n",
        "print(list(range(2, 10, 2)))"
      ],
      "execution_count": 31,
      "outputs": [
        {
          "output_type": "stream",
          "text": [
            "0\n",
            "1\n",
            "2\n",
            "3\n",
            "4\n",
            "5\n",
            "6\n",
            "7\n",
            "8\n",
            "9\n",
            "10\n",
            "11\n",
            "12\n",
            "13\n",
            "14\n",
            "15\n",
            "16\n",
            "17\n",
            "18\n",
            "19\n",
            "[2, 4, 6, 8]\n"
          ],
          "name": "stdout"
        }
      ]
    },
    {
      "cell_type": "markdown",
      "metadata": {
        "id": "sr9ySn1Y3U3J"
      },
      "source": [
        "**Listas de comprehensión**\n",
        "\n",
        "----\n",
        "Estas nos permiten crear listas de elementos en una sola linea de código.\n",
        "\n",
        "Ejemplo: Crear una lista de las potencias a la 3 de los números impares de 0 a 9"
      ]
    },
    {
      "cell_type": "code",
      "metadata": {
        "colab": {
          "base_uri": "https://localhost:8080/"
        },
        "id": "OALko29939eS",
        "outputId": "6b3aeba3-37bb-4f7e-f28c-80ade59971ec"
      },
      "source": [
        "tres=[i**3 for i in range (1,10,2)]\n",
        "#1, 3, 5, 7, 9\n",
        "print(tres)\n",
        "\n",
        "tres=[]\n",
        "for i in range (1,10,2):\n",
        "  tres.append(i**3)\n",
        "  #append añadidura de elementos en operaciones\n",
        "  print(i)"
      ],
      "execution_count": 41,
      "outputs": [
        {
          "output_type": "stream",
          "text": [
            "[1, 27, 125, 343, 729]\n",
            "1\n",
            "3\n",
            "5\n",
            "7\n",
            "9\n"
          ],
          "name": "stdout"
        }
      ]
    },
    {
      "cell_type": "code",
      "metadata": {
        "colab": {
          "base_uri": "https://localhost:8080/"
        },
        "id": "fO6pMUvf5-kQ",
        "outputId": "d436a072-4ea4-4e0b-f167-4afe10de5946"
      },
      "source": [
        "s=[1 for i in range(10)]\n",
        "print(s)"
      ],
      "execution_count": 42,
      "outputs": [
        {
          "output_type": "stream",
          "text": [
            "[1, 1, 1, 1, 1, 1, 1, 1, 1, 1]\n"
          ],
          "name": "stdout"
        }
      ]
    },
    {
      "cell_type": "code",
      "metadata": {
        "colab": {
          "base_uri": "https://localhost:8080/"
        },
        "id": "6wm5BOIw6Tg1",
        "outputId": "d88a8461-5b7a-4cfb-ff3f-725276ba8066"
      },
      "source": [
        "lwa=[5,10,15,20,25,30]\n",
        "lwa2=[i/5 for i in lwa]\n",
        "print (lwa2)"
      ],
      "execution_count": 43,
      "outputs": [
        {
          "output_type": "stream",
          "text": [
            "[1.0, 2.0, 3.0, 4.0, 5.0, 6.0]\n"
          ],
          "name": "stdout"
        }
      ]
    },
    {
      "cell_type": "code",
      "metadata": {
        "colab": {
          "base_uri": "https://localhost:8080/"
        },
        "id": "vPDo1wK_62gU",
        "outputId": "de1edae7-fdd6-42a5-d0e7-4f0b59f60432"
      },
      "source": [
        "#Añadiendo condicionales (valor cadena)\n",
        "pera = \"Mama ama a ema\"\n",
        "pera2 = [i for i in pera if i==\"m\"]\n",
        "print(pera2)\n"
      ],
      "execution_count": 46,
      "outputs": [
        {
          "output_type": "stream",
          "text": [
            "['m', 'm', 'm']\n"
          ],
          "name": "stdout"
        }
      ]
    },
    {
      "cell_type": "code",
      "metadata": {
        "colab": {
          "base_uri": "https://localhost:8080/"
        },
        "id": "c5u7TXip8H0-",
        "outputId": "4d8c5e09-1319-4706-d492-315b313ccb4e"
      },
      "source": [
        "#Añadiendo condicionales (valor cadena)\n",
        "pera = \"Mama ama a ema\"\n",
        "pera2 = [i for i in pera if i==\"a\"]\n",
        "print(pera2)\n",
        "\n",
        "print (len(pera2))\n"
      ],
      "execution_count": 48,
      "outputs": [
        {
          "output_type": "stream",
          "text": [
            "['a', 'a', 'a', 'a', 'a', 'a']\n",
            "6\n"
          ],
          "name": "stdout"
        }
      ]
    }
  ]
}
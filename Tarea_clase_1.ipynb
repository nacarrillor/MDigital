{
  "nbformat": 4,
  "nbformat_minor": 0,
  "metadata": {
    "colab": {
      "name": "Tarea clase 1",
      "provenance": [],
      "authorship_tag": "ABX9TyPExCvjD8o+G427o7PxJnbc",
      "include_colab_link": true
    },
    "kernelspec": {
      "name": "python3",
      "display_name": "Python 3"
    },
    "language_info": {
      "name": "python"
    }
  },
  "cells": [
    {
      "cell_type": "markdown",
      "metadata": {
        "id": "view-in-github",
        "colab_type": "text"
      },
      "source": [
        "<a href=\"https://colab.research.google.com/github/nacarrillor/MDigital/blob/main/Tarea_clase_1.ipynb\" target=\"_parent\"><img src=\"https://colab.research.google.com/assets/colab-badge.svg\" alt=\"Open In Colab\"/></a>"
      ]
    },
    {
      "cell_type": "markdown",
      "metadata": {
        "id": "T4__hnlBD-a3"
      },
      "source": [
        "#**Ejercicios**\n",
        "2 por tema visto"
      ]
    },
    {
      "cell_type": "code",
      "metadata": {
        "colab": {
          "base_uri": "https://localhost:8080/"
        },
        "id": "MIquN53tEBRj",
        "outputId": "27cea4de-55ce-40aa-d249-a3aa0749e586"
      },
      "source": [
        "#Enteros\n",
        "c=int(6.41)\n",
        "print (c)\n"
      ],
      "execution_count": 7,
      "outputs": [
        {
          "output_type": "stream",
          "text": [
            "6\n"
          ],
          "name": "stdout"
        }
      ]
    },
    {
      "cell_type": "code",
      "metadata": {
        "colab": {
          "base_uri": "https://localhost:8080/"
        },
        "id": "-zKsB4xKF8Xg",
        "outputId": "eeec0346-aadd-4e59-d46d-156b91b6cc18"
      },
      "source": [
        "#Enteros\n",
        "d=int(93.31)\n",
        "print (d)"
      ],
      "execution_count": 8,
      "outputs": [
        {
          "output_type": "stream",
          "text": [
            "93\n"
          ],
          "name": "stdout"
        }
      ]
    },
    {
      "cell_type": "code",
      "metadata": {
        "id": "Z92OabThETzN",
        "colab": {
          "base_uri": "https://localhost:8080/"
        },
        "outputId": "8578b9b9-ad6e-4a10-ff5b-614b35b541e8"
      },
      "source": [
        "#Cadena \n",
        "Val3= \"Bienvenidos,\"\n",
        "print (Val3)\n",
        "val4 = \"a la clase de hoy\"\n",
        "print(val4)\n"
      ],
      "execution_count": 9,
      "outputs": [
        {
          "output_type": "stream",
          "text": [
            "Bienvenidos,\n",
            "a la clase de hoy\n"
          ],
          "name": "stdout"
        }
      ]
    },
    {
      "cell_type": "code",
      "metadata": {
        "colab": {
          "base_uri": "https://localhost:8080/"
        },
        "id": "lLkVOyCKF3Jf",
        "outputId": "01348cba-459a-45a5-a2ee-36a0b9d9c6d2"
      },
      "source": [
        "#Cadena\n",
        "Val5= \"Buenos días amiguitos, ¿cómo están?\"\n",
        "print (Val5)\n",
        "val6 = \"MUY BIEN\"\n",
        "print(val6)"
      ],
      "execution_count": 10,
      "outputs": [
        {
          "output_type": "stream",
          "text": [
            "Buenos días amiguitos, ¿cómo están?\n",
            "MUY BIEN\n"
          ],
          "name": "stdout"
        }
      ]
    },
    {
      "cell_type": "code",
      "metadata": {
        "colab": {
          "base_uri": "https://localhost:8080/"
        },
        "id": "O_vawaSzFWGu",
        "outputId": "44186e50-259e-459d-e178-224eda1711b1"
      },
      "source": [
        " #Booleanos\n",
        "Estudiar= False\n",
        "print(\"Estudiar es fácil:\", Estudiar, \":No es fácil\")"
      ],
      "execution_count": 16,
      "outputs": [
        {
          "output_type": "stream",
          "text": [
            "Estudiar es fácil: False :No es fácil\n"
          ],
          "name": "stdout"
        }
      ]
    },
    {
      "cell_type": "code",
      "metadata": {
        "colab": {
          "base_uri": "https://localhost:8080/"
        },
        "id": "09bkR-kgGCyw",
        "outputId": "283ea7d9-d238-4cff-b5f5-af94d914fd82"
      },
      "source": [
        "#Booleanos \n",
        "Si_va = True\n",
        "print (\"Alejandra va al paseo:\", Si_va, \"Sí\")"
      ],
      "execution_count": 18,
      "outputs": [
        {
          "output_type": "stream",
          "text": [
            "Alejandra va al paseo: True Sí\n"
          ],
          "name": "stdout"
        }
      ]
    },
    {
      "cell_type": "code",
      "metadata": {
        "colab": {
          "base_uri": "https://localhost:8080/"
        },
        "id": "n_pxj2tzFcBY",
        "outputId": "785b762b-24b0-4191-a6ad-ff8e54754224"
      },
      "source": [
        "#Lista\n",
        "Mercado= ['papa','yuca','repollo','brocoli', 'arroz', 'cebolla','tomate', 'pimenton','1Lb']\n",
        "print(Mercado)\n"
      ],
      "execution_count": 21,
      "outputs": [
        {
          "output_type": "stream",
          "text": [
            "['papa', 'yuca', 'repollo', 'brocoli', 'arroz', 'cebolla', 'tomate', 'pimenton', '1Lb']\n"
          ],
          "name": "stdout"
        }
      ]
    },
    {
      "cell_type": "code",
      "metadata": {
        "colab": {
          "base_uri": "https://localhost:8080/"
        },
        "id": "KTw64470GDuC",
        "outputId": "376e63b1-4f7b-47c0-e4ae-d9b14e4f8f05"
      },
      "source": [
        "#Lista\n",
        "Ropa= ['vestido','blusa','jean','chaqueta', 'camiseta']\n",
        "print(Ropa)"
      ],
      "execution_count": 22,
      "outputs": [
        {
          "output_type": "stream",
          "text": [
            "['vestido', 'blusa', 'jean', 'chaqueta', 'camiseta']\n"
          ],
          "name": "stdout"
        }
      ]
    },
    {
      "cell_type": "code",
      "metadata": {
        "colab": {
          "base_uri": "https://localhost:8080/"
        },
        "id": "mGgdTGyFGU4G",
        "outputId": "c54e8652-cd47-44e2-f969-dc0ff85154e3"
      },
      "source": [
        "#Conjuntos\n",
        "Mercado= ['papa','yuca','repollo','brocoli', 'arroz', 'cebolla','tomate', 'pimenton','1Lb']\n",
        "Ropa= ['vestido','blusa','jean','chaqueta', 'camiseta']\n",
        "print (Mercado, Ropa)"
      ],
      "execution_count": 23,
      "outputs": [
        {
          "output_type": "stream",
          "text": [
            "['papa', 'yuca', 'repollo', 'brocoli', 'arroz', 'cebolla', 'tomate', 'pimenton', '1Lb'] ['vestido', 'blusa', 'jean', 'chaqueta', 'camiseta']\n"
          ],
          "name": "stdout"
        }
      ]
    },
    {
      "cell_type": "code",
      "metadata": {
        "colab": {
          "base_uri": "https://localhost:8080/"
        },
        "id": "rkZrRM_4GW1z",
        "outputId": "0eb90a7c-3510-4e09-e09d-866037e7626a"
      },
      "source": [
        "#Conjuntos\n",
        "Minerales= ['Cuarzo','Moscovita','Biotita','Glaucofana', 'Feldespato']\n",
        "Rocas= ['Ignea','Sedimentaria','Metamorfica']\n",
        "print (Minerales, Rocas)"
      ],
      "execution_count": 24,
      "outputs": [
        {
          "output_type": "stream",
          "text": [
            "['Cuarzo', 'Moscovita', 'Biotita', 'Glaucofana', 'Feldespato'] ['Ignea', 'Sedimentaria', 'Metamorfica']\n"
          ],
          "name": "stdout"
        }
      ]
    },
    {
      "cell_type": "code",
      "metadata": {
        "colab": {
          "base_uri": "https://localhost:8080/"
        },
        "id": "nmr8EUW9FdWP",
        "outputId": "b8a8dfed-7d55-4ac5-a319-44b8a8e101a4"
      },
      "source": [
        "#Tupla\n",
        "A= 'Estudiar', 'Trabajar'\n",
        "print (A)\n",
        "\n",
        "O= A, (1,2,3,4,5,6,7,8,9,10), 'Horas'\n",
        "print (O)"
      ],
      "execution_count": 28,
      "outputs": [
        {
          "output_type": "stream",
          "text": [
            "('Estudiar', 'Trabajar')\n",
            "(('Estudiar', 'Trabajar'), (1, 2, 3, 4, 5, 6, 7, 8, 9, 10), 'Horas')\n"
          ],
          "name": "stdout"
        }
      ]
    },
    {
      "cell_type": "code",
      "metadata": {
        "colab": {
          "base_uri": "https://localhost:8080/"
        },
        "id": "TBAghkUPGFLg",
        "outputId": "d454e600-6119-4cf9-a539-8bed86c77c84"
      },
      "source": [
        "#Tupla\n",
        "B= 'Lunes', 'Martes', 'Miercoles', 'Jueves', 'Viernes'\n",
        "print (B)\n",
        "\n",
        "P= B, (11,21,31)\n",
        "print (P)"
      ],
      "execution_count": 30,
      "outputs": [
        {
          "output_type": "stream",
          "text": [
            "('Lunes', 'Martes', 'Miercoles', 'Jueves', 'Viernes')\n",
            "(('Lunes', 'Martes', 'Miercoles', 'Jueves', 'Viernes'), (11, 21, 31))\n"
          ],
          "name": "stdout"
        }
      ]
    },
    {
      "cell_type": "code",
      "metadata": {
        "colab": {
          "base_uri": "https://localhost:8080/"
        },
        "id": "XJ5xEfFDFd83",
        "outputId": "f931eb3e-e388-484c-a2d8-691c456acd90"
      },
      "source": [
        "#Diccionario\n",
        "Futbol =        {'year':[2010,2011,2012, 2010,2011,2012, 2010,2011,2012],\n",
        "              'team': ['FCBarcelona', 'FCBarcelona','FCBarcelona', 'RMadrid', 'RMadrid', 'RMadrid', 'ValenciaCF','ValenciaCF', 'ValenciaCF'],\n",
        "              'wins': [30, 28, 32, 29, 32, 26, 21, 17, 19],\n",
        "              'draws': [6, 7, 4, 5, 4, 7, 8, 10, 8],\n",
        "              'losses': [2, 3, 2, 4, 2, 5, 9, 11, 11],\n",
        "               }\n",
        "print('losses', Futbol['losses'])\n",
        "print('ID DEL DICCIONARIO:', Futbol.items())"
      ],
      "execution_count": 33,
      "outputs": [
        {
          "output_type": "stream",
          "text": [
            "losses [2, 3, 2, 4, 2, 5, 9, 11, 11]\n",
            "ID DEL DICCIONARIO: dict_items([('year', [2010, 2011, 2012, 2010, 2011, 2012, 2010, 2011, 2012]), ('team', ['FCBarcelona', 'FCBarcelona', 'FCBarcelona', 'RMadrid', 'RMadrid', 'RMadrid', 'ValenciaCF', 'ValenciaCF', 'ValenciaCF']), ('wins', [30, 28, 32, 29, 32, 26, 21, 17, 19]), ('draws', [6, 7, 4, 5, 4, 7, 8, 10, 8]), ('losses', [2, 3, 2, 4, 2, 5, 9, 11, 11])])\n"
          ],
          "name": "stdout"
        }
      ]
    },
    {
      "cell_type": "code",
      "metadata": {
        "colab": {
          "base_uri": "https://localhost:8080/"
        },
        "id": "ftPzB1BDGFzQ",
        "outputId": "294cb89c-40a9-4437-b912-c810bb46bf3a"
      },
      "source": [
        "#Diccionario\n",
        "Materia =        {'semestre':[2021-1],\n",
        "              'fisica': [4],\n",
        "              'matematica': [5],\n",
        "              'ingles': [2],\n",
        "              'geologia': [4],\n",
        "               }\n",
        "print ('semestre', Materia.items())\n",
        "print ('creditos_geologia', Materia['geologia'])"
      ],
      "execution_count": 40,
      "outputs": [
        {
          "output_type": "stream",
          "text": [
            "semestre dict_items([('semestre', [2020]), ('fisica', [4]), ('matematica', [5]), ('ingles', [2]), ('geologia', [4])])\n",
            "creditos_geologia [4]\n"
          ],
          "name": "stdout"
        }
      ]
    }
  ]
}
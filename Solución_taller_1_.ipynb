{
  "nbformat": 4,
  "nbformat_minor": 0,
  "metadata": {
    "colab": {
      "name": "Solución taller 1.",
      "provenance": [],
      "collapsed_sections": [],
      "authorship_tag": "ABX9TyP27Xc3JdiTkUK8xEbvc6wE",
      "include_colab_link": true
    },
    "kernelspec": {
      "name": "python3",
      "display_name": "Python 3"
    },
    "language_info": {
      "name": "python"
    }
  },
  "cells": [
    {
      "cell_type": "markdown",
      "metadata": {
        "id": "view-in-github",
        "colab_type": "text"
      },
      "source": [
        "<a href=\"https://colab.research.google.com/github/nacarrillor/MDigital/blob/main/Soluci%C3%B3n_taller_1_.ipynb\" target=\"_parent\"><img src=\"https://colab.research.google.com/assets/colab-badge.svg\" alt=\"Open In Colab\"/></a>"
      ]
    },
    {
      "cell_type": "markdown",
      "metadata": {
        "id": "vP-c-VgUZdxF"
      },
      "source": [
        "Existen varios tipos de instrucciones"
      ]
    },
    {
      "cell_type": "markdown",
      "metadata": {
        "id": "-WUm1Xu4Z3_3"
      },
      "source": [
        "#**TALLER 1**\n",
        "\n",
        "1. El bootccamp comenzó el 26 de Julio del 2021, se les explico a las estudiantes que se les evaluara de la siguiente forma:\n",
        "Tareas- 10%\n",
        "Talleres 25%\n",
        "Asistencia 5%\n",
        "Participación 15%\n",
        "Proyecto 45%\n",
        "\n",
        "Teniendo en cuenta las ponderacioenes de calificación del bootcamp las estudiantes deciden desarrollar un programa que les permita saber cuanto tendria que sacar en el proyecto para tener una definitiva de 3.7 minimo en el curso, si las notas que llevan en el momento son las siguientes:\n",
        "Tarea= 4.5\n",
        "Talleres = 4\n",
        "Asistencia= 5\n",
        "Participación = 4\n",
        "\n"
      ]
    },
    {
      "cell_type": "code",
      "metadata": {
        "colab": {
          "base_uri": "https://localhost:8080/"
        },
        "id": "nPsTUQXXacMS",
        "outputId": "c3443bbc-8594-42f9-d030-ccf3edb91780"
      },
      "source": [
        "Tarea = 4.5\n",
        "Taller = 4\n",
        "Asistencia = 5\n",
        "Participacion = 4\n",
        "\n",
        "Nota1 = Tarea*0.1\n",
        "Nota2 = Taller*0.25\n",
        "Nota3 = Asistencia*0.05\n",
        "Nota4 = Participacion*0.15\n",
        "\n",
        "Notaparcial= Nota1+Nota2+Nota3+Nota4\n",
        "Nota5=(3.7-Notaparcial)/0.45\n",
        "print(\"Para sacar minímo 3.7 en el curso, el estudiante debe sacar en el proyecto como minimo\", round(Nota5,2))"
      ],
      "execution_count": 1,
      "outputs": [
        {
          "output_type": "stream",
          "text": [
            "Para sacar minímo 3.7 en el curso, el estudiante debe sacar en el proyecto como minimo 3.11\n"
          ],
          "name": "stdout"
        }
      ]
    },
    {
      "cell_type": "code",
      "metadata": {
        "colab": {
          "base_uri": "https://localhost:8080/"
        },
        "id": "41ugxxZYcNFY",
        "outputId": "542508a9-23aa-4fb3-dc9d-51b843a615a8"
      },
      "source": [
        "Tarea = float(input(\"Nota de tareas\"))\n",
        "Taller = float(input(\"Nota de Taller\"))\n",
        "Asistencia = float(input(\"Nota de Asistencia\"))\n",
        "Participacion = float(input(\"Nota de Participación\"))\n",
        "\n",
        "Nota1 = Tarea*0.1\n",
        "Nota2 = Taller*0.25\n",
        "Nota3 = Asistencia*0.05\n",
        "Nota4 = Participacion*0.15\n",
        "\n",
        "Notaparcial= Nota1+Nota2+Nota3+Nota4\n",
        "Nota5=(3.7-Notaparcial)/0.45\n",
        "if Nota5>=5.0:\n",
        "  print (\"Saca menos de 3.7 en el curso\")\n",
        "else:\n",
        "  print (\"Para sacar minímo 3.7 en el curso, el estudiante debe sacar en el proyecto como minimo\", round(Nota5,2))"
      ],
      "execution_count": 4,
      "outputs": [
        {
          "output_type": "stream",
          "text": [
            "Nota de tareas2\n",
            "Nota de Taller3\n",
            "Nota de Asistencia5\n",
            "Nota de Participación6\n",
            "Para sacar minímo 3.7 en el curso, el estudiante debe sacar en el proyecto como minimo 3.56\n"
          ],
          "name": "stdout"
        }
      ]
    },
    {
      "cell_type": "markdown",
      "metadata": {
        "id": "yKFjTPWXdL3U"
      },
      "source": [
        "#**2.**\n",
        "La empresa VIVAFLY tiene como eslogan: \"Satisfacción y plenitud en un solo viaje\". Por lo cual, uno de los medios que utiliza VIVAFLY..."
      ]
    },
    {
      "cell_type": "code",
      "metadata": {
        "colab": {
          "base_uri": "https://localhost:8080/"
        },
        "id": "fiZBJKlbdz4x",
        "outputId": "72c747ce-b249-46c6-ea63-6f86b222f262"
      },
      "source": [
        "participante= input(\"Nombre del concursante:\")\n",
        "balota = input(\"Color de la balota:\")\n",
        "\n",
        "premio1= \"Viaje todo incluido San Andres\"\n",
        "premio2= \"Pasadía a los termales de san vicente, incluye almuerzo\"\n",
        "premio3= \"Viaje todo incluido santa marta\"\n",
        "bono1= \"boleta de cine estreno\"\n",
        "\n",
        "if balota==\"R\":\n",
        "  bono = int(1000000*0.15)\n",
        "  if bono<120000:\n",
        "    print(\"La empresa VIVAFLY, se complace en anunciar que la participante\", participante, \"gano\", premio1)\n",
        "    print(\"y un bono por el valor de\",bono, \"en nuestro sorteo de viajes de amor y amistad\")\n",
        "\n",
        "elif balota ==\"V\":\n",
        " bono = int(1000000*0.2)\n",
        "\n",
        "if bono<120000:\n",
        "    print(\"La empresa VIVAFLY, se complace en anunciar que la participante\", participante, \"gano\", premio2)\n",
        "    print(\"y un bono por el valor de\",bono, \"en nuestro sorteo de viajes de amor y amistad\")\n"
      ],
      "execution_count": 7,
      "outputs": [
        {
          "output_type": "stream",
          "text": [
            "Nombre del concursante:Alejandra\n",
            "Color de la balota:R\n"
          ],
          "name": "stdout"
        }
      ]
    },
    {
      "cell_type": "markdown",
      "metadata": {
        "id": "K9V8N7gsfNMZ"
      },
      "source": [
        ""
      ]
    }
  ]
}
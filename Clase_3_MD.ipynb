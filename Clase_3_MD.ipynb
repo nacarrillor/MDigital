{
  "nbformat": 4,
  "nbformat_minor": 0,
  "metadata": {
    "colab": {
      "name": "Clase 3 MD",
      "provenance": [],
      "authorship_tag": "ABX9TyPurF/GuKiyAzCGFz82w1Jc",
      "include_colab_link": true
    },
    "kernelspec": {
      "name": "python3",
      "display_name": "Python 3"
    },
    "language_info": {
      "name": "python"
    }
  },
  "cells": [
    {
      "cell_type": "markdown",
      "metadata": {
        "id": "view-in-github",
        "colab_type": "text"
      },
      "source": [
        "<a href=\"https://colab.research.google.com/github/nacarrillor/MDigital/blob/main/Clase_3_MD.ipynb\" target=\"_parent\"><img src=\"https://colab.research.google.com/assets/colab-badge.svg\" alt=\"Open In Colab\"/></a>"
      ]
    },
    {
      "cell_type": "markdown",
      "metadata": {
        "id": "4aI-ARUWrFPM"
      },
      "source": [
        "**Operadores aritméticos**\n",
        "\n",
        "Los operadores permiten realizar diferentes procesos de cálculo en cualquier lenguaje de programación\n",
        "\n",
        "Los operadores más básicos:\n",
        "1. Suma\n",
        "2. Resta\n",
        "3. Multiplicación\n",
        "4. División"
      ]
    },
    {
      "cell_type": "markdown",
      "metadata": {
        "id": "tEa6sscjrZZD"
      },
      "source": [
        "**Suma**\n",
        "\n",
        "Simbolo suma (+) el cual utilizará en medio de la declaración de ariables a operar"
      ]
    },
    {
      "cell_type": "code",
      "metadata": {
        "colab": {
          "base_uri": "https://localhost:8080/"
        },
        "id": "FVAi2HWsrE2W",
        "outputId": "b204c3b8-6651-420c-9abe-053aed8f1265"
      },
      "source": [
        "print(10+100)"
      ],
      "execution_count": 1,
      "outputs": [
        {
          "output_type": "stream",
          "text": [
            "110\n"
          ],
          "name": "stdout"
        }
      ]
    },
    {
      "cell_type": "code",
      "metadata": {
        "colab": {
          "base_uri": "https://localhost:8080/"
        },
        "id": "lMr26uCtq5nj",
        "outputId": "95a6c76d-b72d-419f-9d3b-2eb0b5dc4c80"
      },
      "source": [
        "#Declarando la suma, de ambas formas se puede hacer también para la resta\n",
        "a=20\n",
        "b=35\n",
        "print(a+b)"
      ],
      "execution_count": 2,
      "outputs": [
        {
          "output_type": "stream",
          "text": [
            "55\n"
          ],
          "name": "stdout"
        }
      ]
    }
  ]
}